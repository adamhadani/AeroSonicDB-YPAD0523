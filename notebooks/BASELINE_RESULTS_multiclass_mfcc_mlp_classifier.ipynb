{
 "cells": [
  {
   "cell_type": "code",
   "execution_count": 1,
   "id": "f1774b68",
   "metadata": {
    "ExecuteTime": {
     "end_time": "2023-06-28T07:15:11.782495Z",
     "start_time": "2023-06-28T07:15:02.494249Z"
    }
   },
   "outputs": [],
   "source": [
    "import os\n",
    "import json\n",
    "import numpy as np\n",
    "import tensorflow.keras as keras\n",
    "import tensorflow as tf\n",
    "from scikeras.wrappers import KerasClassifier\n",
    "from sklearn.model_selection import cross_validate\n",
    "from sklearn.model_selection import StratifiedGroupKFold\n",
    "import matplotlib.pyplot as plt\n",
    "%matplotlib inline\n",
    "import absl.logging\n",
    "absl.logging.set_verbosity(absl.logging.ERROR)\n",
    "tf.compat.v1.logging.set_verbosity(tf.compat.v1.logging.FATAL)"
   ]
  },
  {
   "cell_type": "code",
   "execution_count": 2,
   "id": "ca0086fd",
   "metadata": {
    "ExecuteTime": {
     "end_time": "2023-06-28T07:15:11.904839Z",
     "start_time": "2023-06-28T07:15:11.874406Z"
    }
   },
   "outputs": [],
   "source": [
    "# function to return the cv splits by index\n",
    "\n",
    "def fetch_cv_indicies(X, y, g):\n",
    "    sgkf = StratifiedGroupKFold(n_splits=10)\n",
    "    sgkf.get_n_splits(X, y)\n",
    "    cv_splits = sgkf.split(X, y, g)\n",
    "        \n",
    "    return cv_splits\n"
   ]
  },
  {
   "cell_type": "code",
   "execution_count": 3,
   "id": "471de4b4",
   "metadata": {
    "ExecuteTime": {
     "end_time": "2023-06-28T07:15:11.970712Z",
     "start_time": "2023-06-28T07:15:11.959716Z"
    }
   },
   "outputs": [],
   "source": [
    "def load_data(data_path, target_labels):\n",
    "    \n",
    "    with open(data_path, \"r\") as fp:\n",
    "        data = json.load(fp)\n",
    "        \n",
    "    # convert lists to numpy arrays\n",
    "    X = np.array(data[\"mfcc\"])\n",
    "    y = np.array(data[target_labels]).astype(int)\n",
    "    g = np.array(data['fold_label'])\n",
    "\n",
    "    print(\"Data successfully loaded!\")\n",
    "\n",
    "    return  X, y, g"
   ]
  },
  {
   "cell_type": "code",
   "execution_count": 4,
   "id": "010b027f",
   "metadata": {
    "ExecuteTime": {
     "end_time": "2023-06-28T07:15:11.954695Z",
     "start_time": "2023-06-28T07:15:11.939074Z"
    }
   },
   "outputs": [],
   "source": [
    "mfcc_path = '../data/processed/13_mfcc_5_train.json'"
   ]
  },
  {
   "cell_type": "code",
   "execution_count": 5,
   "id": "6a9ac954",
   "metadata": {
    "ExecuteTime": {
     "end_time": "2023-06-28T07:15:24.895192Z",
     "start_time": "2023-06-28T07:15:11.972459Z"
    }
   },
   "outputs": [
    {
     "name": "stdout",
     "output_type": "stream",
     "text": [
      "Data successfully loaded!\n"
     ]
    }
   ],
   "source": [
    "# load data\n",
    "X, y, g = load_data(data_path=mfcc_path, target_labels='subclass_label')"
   ]
  },
  {
   "cell_type": "code",
   "execution_count": 6,
   "id": "a919e716",
   "metadata": {
    "ExecuteTime": {
     "end_time": "2023-06-28T07:20:34.304339Z",
     "start_time": "2023-06-28T07:20:34.287341Z"
    }
   },
   "outputs": [],
   "source": [
    "def build_model():\n",
    "    model = keras.Sequential([\n",
    "\n",
    "        # input layer\n",
    "        keras.layers.Flatten(input_shape=(X.shape[1], X.shape[2])),\n",
    "        keras.layers.BatchNormalization(),\n",
    "\n",
    "        # 1st dense layer\n",
    "        keras.layers.Dense(128, activation='relu', kernel_regularizer=keras.regularizers.l2(0.001)),\n",
    "        keras.layers.Dropout(0.2),\n",
    "        \n",
    "\n",
    "        # 2nd dense layer\n",
    "        keras.layers.Dense(32, activation='relu', kernel_regularizer=keras.regularizers.l2(0.001)),\n",
    "        keras.layers.Dropout(0.2),\n",
    "\n",
    "        # output layer\n",
    "        keras.layers.Dense(5, activation='softmax')\n",
    "    ])\n",
    "\n",
    "    # compile model\n",
    "    optimizer = keras.optimizers.Adadelta()\n",
    "    model.compile(optimizer=optimizer,\n",
    "                  loss=tf.keras.losses.SparseCategoricalCrossentropy(),\n",
    "                  metrics=[tf.keras.metrics.SparseCategoricalAccuracy()])\n",
    "\n",
    "    return model"
   ]
  },
  {
   "cell_type": "code",
   "execution_count": 7,
   "id": "913cae0f-f790-468c-bc0f-6db1aba2ea2a",
   "metadata": {
    "ExecuteTime": {
     "end_time": "2023-06-28T07:15:11.938178Z",
     "start_time": "2023-06-28T07:15:11.905759Z"
    }
   },
   "outputs": [
    {
     "name": "stdout",
     "output_type": "stream",
     "text": [
      "1) Acc: 72.68% (9.26%)\n",
      "2) Acc: 72.27% (8.39%)\n",
      "3) Acc: 63.63% (8.62%)\n",
      "4) Acc: 67.46% (8.87%)\n",
      "5) Acc: 75.07% (6.49%)\n",
      "6) Acc: 72.34% (6.72%)\n",
      "7) Acc: 73.30% (7.65%)\n",
      "8) Acc: 73.75% (7.89%)\n",
      "9) Acc: 70.53% (7.89%)\n",
      "10) Acc: 74.90% (9.30%)\n",
      "11) Acc: 65.51% (10.69%)\n",
      "12) Acc: 77.79% (8.61%)\n",
      "13) Acc: 69.80% (8.98%)\n",
      "14) Acc: 73.19% (8.17%)\n",
      "15) Acc: 70.47% (9.13%)\n",
      "16) Acc: 76.08% (8.15%)\n",
      "17) Acc: 71.99% (8.08%)\n",
      "18) Acc: 74.68% (8.02%)\n",
      "19) Acc: 66.92% (10.84%)\n",
      "20) Acc: 63.77% (7.26%)\n",
      "21) Acc: 68.28% (8.47%)\n",
      "22) Acc: 73.72% (7.94%)\n",
      "23) Acc: 65.81% (12.38%)\n",
      "24) Acc: 75.34% (5.35%)\n",
      "25) Acc: 81.05% (7.78%)\n",
      "26) Acc: 75.60% (7.95%)\n",
      "27) Acc: 75.24% (9.19%)\n",
      "28) Acc: 72.18% (6.69%)\n",
      "29) Acc: 63.37% (8.47%)\n",
      "30) Acc: 74.78% (7.99%)\n",
      "31) Acc: 72.90% (6.53%)\n",
      "32) Acc: 73.83% (6.36%)\n",
      "33) Acc: 74.62% (6.92%)\n",
      "34) Acc: 74.02% (7.28%)\n",
      "35) Acc: 65.68% (9.16%)\n",
      "36) Acc: 71.20% (11.13%)\n",
      "37) Acc: 65.36% (9.65%)\n",
      "38) Acc: 71.63% (6.38%)\n",
      "39) Acc: 66.57% (11.37%)\n",
      "40) Acc: 75.88% (6.33%)\n",
      "41) Acc: 69.13% (5.24%)\n",
      "42) Acc: 74.39% (10.44%)\n",
      "43) Acc: 68.69% (7.15%)\n",
      "44) Acc: 77.16% (8.22%)\n",
      "45) Acc: 70.91% (7.02%)\n",
      "46) Acc: 73.89% (5.80%)\n",
      "47) Acc: 72.06% (7.67%)\n",
      "48) Acc: 66.87% (8.07%)\n",
      "49) Acc: 69.64% (7.37%)\n",
      "50) Acc: 66.36% (8.22%)\n",
      "After 50 iterations) Baseline: 71.45% (8.15%)\n"
     ]
    }
   ],
   "source": [
    "iters = 0\n",
    "scores = []\n",
    "devs = []\n",
    "cum_ave = []\n",
    "\n",
    "weights = {0: 0.7, 1: 7, 2: 2, 3: 0.5, 4: 25}\n",
    "\n",
    "while iters < 50:\n",
    "    \n",
    "    iters += 1\n",
    "        \n",
    "    # evaluate model with cv splits\n",
    "    model = KerasClassifier(model=build_model, \n",
    "                            batch_size=260, \n",
    "                            epochs=100, \n",
    "                            random_state=iters, \n",
    "                            verbose=0,\n",
    "                            class_weight=weights)\n",
    "\n",
    "    results = cross_validate(model, X, y, cv=fetch_cv_indicies(X, y, g), n_jobs=-1)\n",
    "    print(f\"{iters}) Acc: %.2f%% (%.2f%%)\" % (results['test_score'].mean()*100, results['test_score'].std()*100))\n",
    "\n",
    "    scores.append(results['test_score'].mean()*100)\n",
    "    devs.append(results['test_score'].std()*100)\n",
    "    cum_ave.append(np.array(scores).mean())\n",
    "    \n",
    "    \n",
    "    \n",
    "print(f\"After {iters} iterations) Baseline: %.2f%% (%.2f%%)\" % (np.array(scores).mean(), np.array(devs).mean()))\n"
   ]
  },
  {
   "cell_type": "code",
   "execution_count": 8,
   "id": "4bbc049e-daee-4ff7-ac9f-3f56b3347db9",
   "metadata": {},
   "outputs": [
    {
     "data": {
      "image/png": "[encoded data removed]",
      "text/plain": [
       "<Figure size 640x480 with 1 Axes>"
      ]
     },
     "metadata": {},
     "output_type": "display_data"
    }
   ],
   "source": [
    "# plot the cumulative average of accuracy\n",
    "x = range(1, len(scores)+1, 1)\n",
    "y_cum = cum_ave\n",
    "plt.plot(x, y_cum)\n",
    "plt.plot(x, scores)\n",
    "plt.xticks(range(0, len(scores)+1, 5))\n",
    "plt.ylim(top=100)\n",
    "plt.show()"
   ]
  },
  {
   "cell_type": "code",
   "execution_count": 9,
   "id": "e9412822-7b90-4d7e-a526-710c7679adee",
   "metadata": {},
   "outputs": [
    {
     "name": "stdout",
     "output_type": "stream",
     "text": [
      "\n",
      "Baseline after 50 iterations of 10-fold cross-validation:\n",
      "\n",
      "Mean Accuracy: 71.45% (4.05%)\n",
      "Mean St Dev: (8.15%)\n"
     ]
    }
   ],
   "source": [
    "print(f\"\\nBaseline after {iters} iterations of 10-fold cross-validation:\\n\\nMean Accuracy: %.2f%% (%.2f%%)\\nMean St Dev: (%.2f%%)\" % (np.array(scores).mean(), np.array(scores).std(), np.array(devs).mean()))"
   ]
  }
 ],
 "metadata": {
  "hide_input": false,
  "kernelspec": {
   "display_name": "Python 3 (ipykernel)",
   "language": "python",
   "name": "python3"
  },
  "language_info": {
   "codemirror_mode": {
    "name": "ipython",
    "version": 3
   },
   "file_extension": ".py",
   "mimetype": "text/x-python",
   "name": "python",
   "nbconvert_exporter": "python",
   "pygments_lexer": "ipython3",
   "version": "3.9.13"
  },
  "varInspector": {
   "cols": {
    "lenName": 16,
    "lenType": 16,
    "lenVar": 40
   },
   "kernels_config": {
    "python": {
     "delete_cmd_postfix": "",
     "delete_cmd_prefix": "del ",
     "library": "var_list.py",
     "varRefreshCmd": "print(var_dic_list())"
    },
    "r": {
     "delete_cmd_postfix": ") ",
     "delete_cmd_prefix": "rm(",
     "library": "var_list.r",
     "varRefreshCmd": "cat(var_dic_list()) "
    }
   },
   "types_to_exclude": [
    "module",
    "function",
    "builtin_function_or_method",
    "instance",
    "_Feature"
   ],
   "window_display": false
  }
 },
 "nbformat": 4,
 "nbformat_minor": 5
}
