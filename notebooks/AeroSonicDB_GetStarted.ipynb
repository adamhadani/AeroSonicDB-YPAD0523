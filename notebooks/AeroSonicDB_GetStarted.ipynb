{
 "cells": [
  {
   "cell_type": "code",
   "execution_count": 1,
   "id": "899f48de",
   "metadata": {
    "ExecuteTime": {
     "end_time": "2023-06-11T01:56:35.026872Z",
     "start_time": "2023-06-11T01:56:34.588599Z"
    }
   },
   "outputs": [],
   "source": [
    "# Add project directory\n",
    "import sys\n",
    "sys.path.insert(0, '..')\n",
    "\n",
    "import os\n",
    "import pandas as pd\n",
    "import aerosonicdb.data"
   ]
  },
  {
   "cell_type": "code",
   "execution_count": 2,
   "id": "be1f0ac5",
   "metadata": {
    "ExecuteTime": {
     "end_time": "2023-06-11T01:57:00.508306Z",
     "start_time": "2023-06-11T01:57:00.490679Z"
    }
   },
   "outputs": [],
   "source": [
    "dataset_path = '../data/raw'\n",
    "audio_path = os.path.join(dataset_path, 'audio')"
   ]
  },
  {
   "cell_type": "code",
   "execution_count": 3,
   "id": "c7f3f1af",
   "metadata": {
    "ExecuteTime": {
     "end_time": "2023-06-11T01:57:01.924300Z",
     "start_time": "2023-06-11T01:57:01.900538Z"
    }
   },
   "outputs": [],
   "source": [
    "def get_audio_paths(df, dataset_path):\n",
    "    sep = os.sep\n",
    "\n",
    "    audio_dir = dataset_path + sep + 'audio' + sep\n",
    "    paths = audio_dir + df['class'].astype(str) + sep + df['filename']\n",
    "    return paths"
   ]
  },
  {
   "cell_type": "code",
   "execution_count": 4,
   "id": "071cad6f",
   "metadata": {
    "ExecuteTime": {
     "end_time": "2023-06-11T01:57:03.372073Z",
     "start_time": "2023-06-11T01:57:03.348697Z"
    }
   },
   "outputs": [],
   "source": [
    "def check_dir_setup():\n",
    "    # check dataset directory exists\n",
    "    if not os.path.exists(dataset_path):\n",
    "        print('dataset directory not found - download the dataset to continue')\n",
    "        \n",
    "    if not os.path.exists(audio_path):\n",
    "        print('audio directory not found')\n",
    "        \n",
    "    if not os.path.exists(os.path.join(audio_path, '0')):\n",
    "                if not os.path.exists(os.path.join(audio_path, '1')):\n",
    "                    print('Sub-directories not found')\n",
    "    \n",
    "    else:\n",
    "        print('Directory ready') "
   ]
  },
  {
   "cell_type": "code",
   "execution_count": 5,
   "id": "f3c8d9fa",
   "metadata": {
    "ExecuteTime": {
     "end_time": "2023-06-11T01:57:04.982543Z",
     "start_time": "2023-06-11T01:57:04.976533Z"
    }
   },
   "outputs": [
    {
     "name": "stdout",
     "output_type": "stream",
     "text": [
      "Directory ready\n"
     ]
    }
   ],
   "source": [
    "check_dir_setup()"
   ]
  },
  {
   "cell_type": "code",
   "execution_count": 6,
   "id": "8e70c4f6",
   "metadata": {
    "ExecuteTime": {
     "end_time": "2023-06-11T01:57:07.415041Z",
     "start_time": "2023-06-11T01:57:07.406078Z"
    }
   },
   "outputs": [
    {
     "name": "stdout",
     "output_type": "stream",
     "text": [
      "Dataset already downloaded - see the \"./data/raw\" directory.\n"
     ]
    }
   ],
   "source": [
    "aerosonicdb.data.download(target_directory=dataset_path)"
   ]
  },
  {
   "cell_type": "code",
   "execution_count": 7,
   "id": "717af97e",
   "metadata": {
    "ExecuteTime": {
     "end_time": "2023-06-11T01:57:13.072733Z",
     "start_time": "2023-06-11T01:57:13.059638Z"
    }
   },
   "outputs": [
    {
     "name": "stdout",
     "output_type": "stream",
     "text": [
      "Directory ready\n"
     ]
    }
   ],
   "source": [
    "check_dir_setup()"
   ]
  },
  {
   "cell_type": "code",
   "execution_count": 8,
   "id": "65318237",
   "metadata": {
    "ExecuteTime": {
     "end_time": "2023-06-11T01:57:30.264331Z",
     "start_time": "2023-06-11T01:57:30.214594Z"
    }
   },
   "outputs": [],
   "source": [
    "# read in the \"sample_meta.csv\"\n",
    "df = pd.read_csv(os.path.join(dataset_path, 'sample_meta.csv'))"
   ]
  },
  {
   "cell_type": "code",
   "execution_count": 9,
   "id": "d3c524e5",
   "metadata": {
    "ExecuteTime": {
     "end_time": "2023-06-11T01:57:35.547992Z",
     "start_time": "2023-06-11T01:57:35.501634Z"
    }
   },
   "outputs": [
    {
     "data": {
      "text/html": [
       "<div>\n",
       "<style scoped>\n",
       "    .dataframe tbody tr th:only-of-type {\n",
       "        vertical-align: middle;\n",
       "    }\n",
       "\n",
       "    .dataframe tbody tr th {\n",
       "        vertical-align: top;\n",
       "    }\n",
       "\n",
       "    .dataframe thead th {\n",
       "        text-align: right;\n",
       "    }\n",
       "</style>\n",
       "<table border=\"1\" class=\"dataframe\">\n",
       "  <thead>\n",
       "    <tr style=\"text-align: right;\">\n",
       "      <th></th>\n",
       "      <th>train-test</th>\n",
       "      <th>fold</th>\n",
       "      <th>filename</th>\n",
       "      <th>date</th>\n",
       "      <th>time</th>\n",
       "      <th>duration</th>\n",
       "      <th>location_id</th>\n",
       "      <th>microphone_id</th>\n",
       "      <th>hex_id</th>\n",
       "      <th>altitude</th>\n",
       "      <th>...</th>\n",
       "      <th>typedesig</th>\n",
       "      <th>manu</th>\n",
       "      <th>model</th>\n",
       "      <th>engmanu</th>\n",
       "      <th>engmodel</th>\n",
       "      <th>engfamily</th>\n",
       "      <th>fueltype</th>\n",
       "      <th>propmanu</th>\n",
       "      <th>propmodel</th>\n",
       "      <th>mtow</th>\n",
       "    </tr>\n",
       "  </thead>\n",
       "  <tbody>\n",
       "    <tr>\n",
       "      <th>0</th>\n",
       "      <td>train</td>\n",
       "      <td>0</td>\n",
       "      <td>7C7BD9_2022-12-08_12-01-35_0_0.wav</td>\n",
       "      <td>2022-12-08</td>\n",
       "      <td>12-01-35</td>\n",
       "      <td>20</td>\n",
       "      <td>0</td>\n",
       "      <td>0</td>\n",
       "      <td>7C7BD9</td>\n",
       "      <td>3125</td>\n",
       "      <td>...</td>\n",
       "      <td>DA42</td>\n",
       "      <td>DIAMOND AIRCRAFT INDUSTRIES</td>\n",
       "      <td>DA 42</td>\n",
       "      <td>TEXTRON LYCOMING</td>\n",
       "      <td>IO-360-M1A</td>\n",
       "      <td>IO-360</td>\n",
       "      <td>Gasoline</td>\n",
       "      <td>MT PROPELLERS</td>\n",
       "      <td>MTV-12-B-C-F/CF-183</td>\n",
       "      <td>1785</td>\n",
       "    </tr>\n",
       "    <tr>\n",
       "      <th>1</th>\n",
       "      <td>train</td>\n",
       "      <td>0</td>\n",
       "      <td>7C1CA2_2022-12-08_11-02-36_0_0.wav</td>\n",
       "      <td>2022-12-08</td>\n",
       "      <td>11-02-36</td>\n",
       "      <td>20</td>\n",
       "      <td>0</td>\n",
       "      <td>0</td>\n",
       "      <td>7C1CA2</td>\n",
       "      <td>3475</td>\n",
       "      <td>...</td>\n",
       "      <td>PC12</td>\n",
       "      <td>PILATUS AIRCRAFT LTD</td>\n",
       "      <td>PC-12/47E</td>\n",
       "      <td>PRATT &amp; WHITNEY CANADA</td>\n",
       "      <td>PT6A-67P</td>\n",
       "      <td>PT6</td>\n",
       "      <td>Kerosene</td>\n",
       "      <td>HARTZELL PROPELLERS</td>\n",
       "      <td>HC-E5A-3A/NC10245B</td>\n",
       "      <td>4740</td>\n",
       "    </tr>\n",
       "    <tr>\n",
       "      <th>2</th>\n",
       "      <td>train</td>\n",
       "      <td>0</td>\n",
       "      <td>7C7AB4_2022-12-08_17-06-42_0_0.wav</td>\n",
       "      <td>2022-12-08</td>\n",
       "      <td>17-06-42</td>\n",
       "      <td>20</td>\n",
       "      <td>0</td>\n",
       "      <td>0</td>\n",
       "      <td>7C7AB4</td>\n",
       "      <td>3325</td>\n",
       "      <td>...</td>\n",
       "      <td>B738</td>\n",
       "      <td>THE BOEING COMPANY</td>\n",
       "      <td>737-8FE</td>\n",
       "      <td>CFM INTERNATIONAL, S.A.</td>\n",
       "      <td>CFM-56-7B26/E</td>\n",
       "      <td>CFM56</td>\n",
       "      <td>Kerosene</td>\n",
       "      <td>AIRCRAFT NOT FITTED WITH PROPELLER</td>\n",
       "      <td>NOT APPLICABLE</td>\n",
       "      <td>79015</td>\n",
       "    </tr>\n",
       "    <tr>\n",
       "      <th>3</th>\n",
       "      <td>train</td>\n",
       "      <td>0</td>\n",
       "      <td>7C779A_2022-12-08_09-11-44_0_0.wav</td>\n",
       "      <td>2022-12-08</td>\n",
       "      <td>09-11-44</td>\n",
       "      <td>20</td>\n",
       "      <td>0</td>\n",
       "      <td>0</td>\n",
       "      <td>7C779A</td>\n",
       "      <td>3250</td>\n",
       "      <td>...</td>\n",
       "      <td>F100</td>\n",
       "      <td>FOKKER AIRCRAFT B.V.</td>\n",
       "      <td>F28 MK 0100</td>\n",
       "      <td>ROLLS ROYCE LTD</td>\n",
       "      <td>TAY 650-15</td>\n",
       "      <td>TAY</td>\n",
       "      <td>Kerosene</td>\n",
       "      <td>AIRCRAFT NOT FITTED WITH PROPELLER</td>\n",
       "      <td>NOT APPLICABLE</td>\n",
       "      <td>44450</td>\n",
       "    </tr>\n",
       "    <tr>\n",
       "      <th>4</th>\n",
       "      <td>train</td>\n",
       "      <td>0</td>\n",
       "      <td>C8809F_2022-12-08_12-08-45_0_0.wav</td>\n",
       "      <td>2022-12-08</td>\n",
       "      <td>12-08-45</td>\n",
       "      <td>20</td>\n",
       "      <td>0</td>\n",
       "      <td>0</td>\n",
       "      <td>C8809F</td>\n",
       "      <td>3275</td>\n",
       "      <td>...</td>\n",
       "      <td>B38M</td>\n",
       "      <td>THE BOEING COMPANY</td>\n",
       "      <td>737-8 MAX</td>\n",
       "      <td>CFM INTERNATIONAL, S.A.</td>\n",
       "      <td>LEAP-1B</td>\n",
       "      <td>LEAP</td>\n",
       "      <td>Kerosene</td>\n",
       "      <td>AIRCRAFT NOT FITTED WITH PROPELLER</td>\n",
       "      <td>NOT APPLICABLE</td>\n",
       "      <td>82600</td>\n",
       "    </tr>\n",
       "  </tbody>\n",
       "</table>\n",
       "<p>5 rows × 27 columns</p>\n",
       "</div>"
      ],
      "text/plain": [
       "  train-test fold                            filename        date      time  \\\n",
       "0      train    0  7C7BD9_2022-12-08_12-01-35_0_0.wav  2022-12-08  12-01-35   \n",
       "1      train    0  7C1CA2_2022-12-08_11-02-36_0_0.wav  2022-12-08  11-02-36   \n",
       "2      train    0  7C7AB4_2022-12-08_17-06-42_0_0.wav  2022-12-08  17-06-42   \n",
       "3      train    0  7C779A_2022-12-08_09-11-44_0_0.wav  2022-12-08  09-11-44   \n",
       "4      train    0  C8809F_2022-12-08_12-08-45_0_0.wav  2022-12-08  12-08-45   \n",
       "\n",
       "   duration  location_id  microphone_id  hex_id  altitude  ...  typedesig  \\\n",
       "0        20            0              0  7C7BD9      3125  ...       DA42   \n",
       "1        20            0              0  7C1CA2      3475  ...       PC12   \n",
       "2        20            0              0  7C7AB4      3325  ...       B738   \n",
       "3        20            0              0  7C779A      3250  ...       F100   \n",
       "4        20            0              0  C8809F      3275  ...       B38M   \n",
       "\n",
       "                          manu        model                  engmanu  \\\n",
       "0  DIAMOND AIRCRAFT INDUSTRIES        DA 42         TEXTRON LYCOMING   \n",
       "1         PILATUS AIRCRAFT LTD    PC-12/47E   PRATT & WHITNEY CANADA   \n",
       "2           THE BOEING COMPANY      737-8FE  CFM INTERNATIONAL, S.A.   \n",
       "3         FOKKER AIRCRAFT B.V.  F28 MK 0100          ROLLS ROYCE LTD   \n",
       "4           THE BOEING COMPANY    737-8 MAX  CFM INTERNATIONAL, S.A.   \n",
       "\n",
       "        engmodel  engfamily  fueltype                            propmanu  \\\n",
       "0     IO-360-M1A     IO-360  Gasoline                       MT PROPELLERS   \n",
       "1       PT6A-67P        PT6  Kerosene                 HARTZELL PROPELLERS   \n",
       "2  CFM-56-7B26/E      CFM56  Kerosene  AIRCRAFT NOT FITTED WITH PROPELLER   \n",
       "3     TAY 650-15        TAY  Kerosene  AIRCRAFT NOT FITTED WITH PROPELLER   \n",
       "4        LEAP-1B       LEAP  Kerosene  AIRCRAFT NOT FITTED WITH PROPELLER   \n",
       "\n",
       "             propmodel   mtow  \n",
       "0  MTV-12-B-C-F/CF-183   1785  \n",
       "1   HC-E5A-3A/NC10245B   4740  \n",
       "2       NOT APPLICABLE  79015  \n",
       "3       NOT APPLICABLE  44450  \n",
       "4       NOT APPLICABLE  82600  \n",
       "\n",
       "[5 rows x 27 columns]"
      ]
     },
     "execution_count": 9,
     "metadata": {},
     "output_type": "execute_result"
    }
   ],
   "source": [
    "df.head()"
   ]
  },
  {
   "cell_type": "code",
   "execution_count": 10,
   "id": "e355d6a3",
   "metadata": {
    "ExecuteTime": {
     "end_time": "2023-06-11T01:57:37.859242Z",
     "start_time": "2023-06-11T01:57:37.764671Z"
    }
   },
   "outputs": [],
   "source": [
    "# get audio paths and check\n",
    "audio_paths = get_audio_paths(df, dataset_path)\n",
    "\n",
    "# check that files exists / lookup is correct\n",
    "for p in audio_paths:\n",
    "    assert os.path.exists(p), p"
   ]
  }
 ],
 "metadata": {
  "hide_input": false,
  "kernelspec": {
   "display_name": "Python 3 (ipykernel)",
   "language": "python",
   "name": "python3"
  },
  "language_info": {
   "codemirror_mode": {
    "name": "ipython",
    "version": 3
   },
   "file_extension": ".py",
   "mimetype": "text/x-python",
   "name": "python",
   "nbconvert_exporter": "python",
   "pygments_lexer": "ipython3",
   "version": "3.9.13"
  },
  "varInspector": {
   "cols": {
    "lenName": 16,
    "lenType": 16,
    "lenVar": 40
   },
   "kernels_config": {
    "python": {
     "delete_cmd_postfix": "",
     "delete_cmd_prefix": "del ",
     "library": "var_list.py",
     "varRefreshCmd": "print(var_dic_list())"
    },
    "r": {
     "delete_cmd_postfix": ") ",
     "delete_cmd_prefix": "rm(",
     "library": "var_list.r",
     "varRefreshCmd": "cat(var_dic_list()) "
    }
   },
   "types_to_exclude": [
    "module",
    "function",
    "builtin_function_or_method",
    "instance",
    "_Feature"
   ],
   "window_display": false
  }
 },
 "nbformat": 4,
 "nbformat_minor": 5
}
