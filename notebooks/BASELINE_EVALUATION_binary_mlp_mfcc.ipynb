{
 "cells": [
  {
   "cell_type": "code",
   "execution_count": 1,
   "id": "75ed56f5-443a-4d42-b77e-0e9c672550ad",
   "metadata": {},
   "outputs": [],
   "source": [
    "import os\n",
    "import json\n",
    "import random\n",
    "import numpy as np\n",
    "import pandas as pd\n",
    "import tensorflow.keras as keras\n",
    "import tensorflow as tf\n",
    "import matplotlib.pyplot as plt\n",
    "from sklearn.metrics import ConfusionMatrixDisplay\n",
    "from scikeras.wrappers import KerasClassifier\n",
    "from sklearn.metrics import confusion_matrix\n",
    "import absl.logging\n",
    "absl.logging.set_verbosity(absl.logging.ERROR)\n",
    "tf.compat.v1.logging.set_verbosity(tf.compat.v1.logging.FATAL)"
   ]
  },
  {
   "cell_type": "code",
   "execution_count": 2,
   "id": "f8018f6f-fde4-4392-8762-cdd7d763e777",
   "metadata": {},
   "outputs": [],
   "source": [
    "mfcc_path = '../data/processed/13_mfcc_5_test.json'"
   ]
  },
  {
   "cell_type": "code",
   "execution_count": 3,
   "id": "fa0dfd9e-a1ac-4f47-a03e-f4defa2eb1b7",
   "metadata": {},
   "outputs": [],
   "source": [
    "def load_data(data_path, target_labels):\n",
    "    with open(data_path, \"r\") as fp:\n",
    "        data = json.load(fp)\n",
    "\n",
    "    # convert lists to numpy arrays\n",
    "    X = np.array(data[\"mfcc\"])\n",
    "    y = np.array(data[target_labels]).astype(int)\n",
    "    \n",
    "    print(\"Data successfully loaded!\")\n",
    "\n",
    "    return X, y"
   ]
  },
  {
   "cell_type": "code",
   "execution_count": 4,
   "id": "4eb34ddc-5daf-4ac4-a464-5f5b6cb96ca5",
   "metadata": {},
   "outputs": [
    {
     "name": "stdout",
     "output_type": "stream",
     "text": [
      "Data successfully loaded!\n"
     ]
    }
   ],
   "source": [
    "X, y = load_data(data_path=mfcc_path, target_labels='class_label')"
   ]
  },
  {
   "cell_type": "code",
   "execution_count": 5,
   "id": "990adc50-e5da-4b6f-b829-85c05c345dfa",
   "metadata": {},
   "outputs": [
    {
     "name": "stdout",
     "output_type": "stream",
     "text": [
      "Model: \"sequential\"\n",
      "_________________________________________________________________\n",
      " Layer (type)                Output Shape              Param #   \n",
      "=================================================================\n",
      " flatten (Flatten)           (None, 2808)              0         \n",
      "                                                                 \n",
      " batch_normalization (Batch  (None, 2808)              11232     \n",
      " Normalization)                                                  \n",
      "                                                                 \n",
      " dense (Dense)               (None, 128)               359552    \n",
      "                                                                 \n",
      " dropout (Dropout)           (None, 128)               0         \n",
      "                                                                 \n",
      " dense_1 (Dense)             (None, 64)                8256      \n",
      "                                                                 \n",
      " dropout_1 (Dropout)         (None, 64)                0         \n",
      "                                                                 \n",
      " dense_2 (Dense)             (None, 1)                 65        \n",
      "                                                                 \n",
      "=================================================================\n",
      "Total params: 379105 (1.45 MB)\n",
      "Trainable params: 373489 (1.42 MB)\n",
      "Non-trainable params: 5616 (21.94 KB)\n",
      "_________________________________________________________________\n"
     ]
    }
   ],
   "source": [
    "model = tf.keras.models.load_model('../models/baseline_binary_mlp_mfcc/my_model')\n",
    "\n",
    "# Check its architecture\n",
    "model.summary()"
   ]
  },
  {
   "cell_type": "code",
   "execution_count": 6,
   "id": "3a2a24a8-cbee-4687-ad21-2ba53b5f8845",
   "metadata": {},
   "outputs": [
    {
     "name": "stdout",
     "output_type": "stream",
     "text": [
      "2/2 - 0s - loss: 0.0512 - binary_accuracy: 0.9936 - 207ms/epoch - 104ms/step\n"
     ]
    },
    {
     "data": {
      "text/plain": [
       "[0.051162365823984146, 0.9936440587043762]"
      ]
     },
     "execution_count": 6,
     "metadata": {},
     "output_type": "execute_result"
    }
   ],
   "source": [
    "model.evaluate(X, y, batch_size=260, verbose=2)"
   ]
  },
  {
   "cell_type": "code",
   "execution_count": 7,
   "id": "eb37f387-9a25-402c-871f-7bce337aab00",
   "metadata": {},
   "outputs": [
    {
     "name": "stdout",
     "output_type": "stream",
     "text": [
      "15/15 [==============================] - 0s 3ms/step\n"
     ]
    }
   ],
   "source": [
    "y_pred = (model.predict(X).ravel()>0.5)+0"
   ]
  },
  {
   "cell_type": "code",
   "execution_count": 8,
   "id": "b2213fb3-ee19-4c64-a9b7-043d4d70e632",
   "metadata": {},
   "outputs": [
    {
     "data": {
      "text/plain": [
       "<sklearn.metrics._plot.confusion_matrix.ConfusionMatrixDisplay at 0x2462cadcee0>"
      ]
     },
     "execution_count": 8,
     "metadata": {},
     "output_type": "execute_result"
    },
    {
     "data": {
      "image/png": "[encoded data removed]",
      "text/plain": [
       "<Figure size 640x480 with 2 Axes>"
      ]
     },
     "metadata": {},
     "output_type": "display_data"
    }
   ],
   "source": [
    "ConfusionMatrixDisplay.from_predictions(y, y_pred, normalize='true')"
   ]
  },
  {
   "cell_type": "code",
   "execution_count": 9,
   "id": "fbfdb78b-dbe4-49f2-93df-104e0c28ea6f",
   "metadata": {},
   "outputs": [
    {
     "data": {
      "text/plain": [
       "<sklearn.metrics._plot.confusion_matrix.ConfusionMatrixDisplay at 0x2462ccfc760>"
      ]
     },
     "execution_count": 9,
     "metadata": {},
     "output_type": "execute_result"
    },
    {
     "data": {
      "image/png": "[encoded data removed]",
      "text/plain": [
       "<Figure size 640x480 with 2 Axes>"
      ]
     },
     "metadata": {},
     "output_type": "display_data"
    }
   ],
   "source": [
    "ConfusionMatrixDisplay.from_predictions(y, y_pred)"
   ]
  }
 ],
 "metadata": {
  "kernelspec": {
   "display_name": "Python 3 (ipykernel)",
   "language": "python",
   "name": "python3"
  },
  "language_info": {
   "codemirror_mode": {
    "name": "ipython",
    "version": 3
   },
   "file_extension": ".py",
   "mimetype": "text/x-python",
   "name": "python",
   "nbconvert_exporter": "python",
   "pygments_lexer": "ipython3",
   "version": "3.9.13"
  }
 },
 "nbformat": 4,
 "nbformat_minor": 5
}
