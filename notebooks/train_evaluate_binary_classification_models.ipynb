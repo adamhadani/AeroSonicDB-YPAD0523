{
 "cells": [
  {
   "cell_type": "code",
   "execution_count": 1,
   "id": "264aa9e2-6a82-441b-8e28-0c5654f58b42",
   "metadata": {},
   "outputs": [
    {
     "name": "stderr",
     "output_type": "stream",
     "text": [
      "2024-10-27 12:03:02.604561: I tensorflow/core/platform/cpu_feature_guard.cc:210] This TensorFlow binary is optimized to use available CPU instructions in performance-critical operations.\n",
      "To enable the following instructions: AVX2 FMA, in other operations, rebuild TensorFlow with the appropriate compiler flags.\n"
     ]
    }
   ],
   "source": [
    "import os\n",
    "\n",
    "from aerosonicdb.utils import get_project_root\n",
    "from aerosonicdb.data import download\n",
    "from aerosonicdb.features import extract_mfccs, extract_env_mfccs\n",
    "from aerosonicdb.models.mfcc import logistic_regression, mlp, cnn"
   ]
  },
  {
   "cell_type": "code",
   "execution_count": 2,
   "id": "ec95b87c-f4cc-4b2d-a408-d9b753b68fb4",
   "metadata": {},
   "outputs": [],
   "source": [
    "root_path = get_project_root()\n",
    "dataset_path = os.path.join(root_path, 'data/raw')"
   ]
  },
  {
   "cell_type": "code",
   "execution_count": 3,
   "id": "85c13908-0ad5-407f-aed3-060cb6da9553",
   "metadata": {},
   "outputs": [
    {
     "name": "stdout",
     "output_type": "stream",
     "text": [
      "Dataset downloaded - see \"data/raw\" directory\n"
     ]
    }
   ],
   "source": [
    "# download the dataset\n",
    "download(target_path=dataset_path)"
   ]
  },
  {
   "cell_type": "code",
   "execution_count": 5,
   "id": "465c32ee-39ae-4236-ab8d-ebf012f8524d",
   "metadata": {},
   "outputs": [
    {
     "data": {
      "application/vnd.jupyter.widget-view+json": {
       "model_id": "f065afbfa96c4892a4c784864c06e364",
       "version_major": 2,
       "version_minor": 0
      },
      "text/plain": [
       "  0%|          | 0/1479 [00:00<?, ?it/s]"
      ]
     },
     "metadata": {},
     "output_type": "display_data"
    }
   ],
   "source": [
    "# extract features for the train set\n",
    "extract_mfccs.save_mfccs(set_str='train', force=True)"
   ]
  },
  {
   "cell_type": "code",
   "execution_count": null,
   "id": "767825ef-713e-49ac-8128-3d8471128e28",
   "metadata": {},
   "outputs": [],
   "source": [
    "# extract features for the test set\n",
    "extract_mfccs.save_mfccs(set_str='test')"
   ]
  },
  {
   "cell_type": "code",
   "execution_count": null,
   "id": "c4f0b837-cded-41d6-8499-c76e9d5e261b",
   "metadata": {},
   "outputs": [],
   "source": [
    "# extract features for the environment set\n",
    "extract_env_mfccs.extract_all_env_feats()"
   ]
  },
  {
   "cell_type": "code",
   "execution_count": null,
   "id": "be24f873-c01d-4d1a-954e-31c824d43394",
   "metadata": {},
   "outputs": [],
   "source": [
    "# run 5-fold CV with logistic regression, test against Test and Environment and print results\n",
    "lr_cv, lr_test, lr_env = logistic_regression.run_cv()"
   ]
  },
  {
   "cell_type": "code",
   "execution_count": null,
   "id": "6fefbf12-995e-40e4-9dab-6be28a347775",
   "metadata": {},
   "outputs": [],
   "source": [
    "# run 5-fold CV with MLP, test against Test and Environment and print results\n",
    "mlp_cv, mlp_test, mlp_env = mlp.run_cv(epochs=50)"
   ]
  },
  {
   "cell_type": "code",
   "execution_count": null,
   "id": "dfe4bdca-99f9-4fb9-bf89-082a8e13477b",
   "metadata": {},
   "outputs": [],
   "source": [
    "# run 5-fold CV with CNN, test against Test and Environment and print results\n",
    "cnn_cv, cnn_test, cnn_env = cnn.run_cv(epochs=50)"
   ]
  },
  {
   "cell_type": "code",
   "execution_count": null,
   "id": "2fe6877c-33bb-4f1f-aefc-5898be9a1326",
   "metadata": {},
   "outputs": [],
   "source": [
    "lr_cv"
   ]
  },
  {
   "cell_type": "code",
   "execution_count": null,
   "id": "0af156e6-162d-46dc-bfbb-3aaa5e5bd785",
   "metadata": {},
   "outputs": [],
   "source": [
    "mlp_cv"
   ]
  },
  {
   "cell_type": "code",
   "execution_count": null,
   "id": "1e90ab6f-3ed3-4516-bbdf-f837e88d04ee",
   "metadata": {},
   "outputs": [],
   "source": [
    "cnn_cv"
   ]
  },
  {
   "cell_type": "code",
   "execution_count": null,
   "id": "d62712c9-ce41-4722-ac27-cf707edc575b",
   "metadata": {},
   "outputs": [],
   "source": [
    "lr_test"
   ]
  },
  {
   "cell_type": "code",
   "execution_count": null,
   "id": "2db60aee-c6c6-4fc1-9afd-9801394735b6",
   "metadata": {},
   "outputs": [],
   "source": [
    "mlp_test"
   ]
  },
  {
   "cell_type": "code",
   "execution_count": null,
   "id": "a55b9532-e1b0-4781-8acc-b732503e5290",
   "metadata": {},
   "outputs": [],
   "source": [
    "cnn_test"
   ]
  },
  {
   "cell_type": "code",
   "execution_count": null,
   "id": "82065080-26c2-4bb2-a432-5f2b914e5474",
   "metadata": {},
   "outputs": [],
   "source": [
    "lr_env"
   ]
  },
  {
   "cell_type": "code",
   "execution_count": null,
   "id": "ec22dcea-8bf9-48a9-b6ef-823a16e4cf72",
   "metadata": {},
   "outputs": [],
   "source": [
    "mlp_env"
   ]
  },
  {
   "cell_type": "code",
   "execution_count": null,
   "id": "c6442d68-b49b-4aa1-9980-fa9975ac4167",
   "metadata": {},
   "outputs": [],
   "source": [
    "cnn_env"
   ]
  }
 ],
 "metadata": {
  "kernelspec": {
   "display_name": ".venv",
   "language": "python",
   "name": "python3"
  },
  "language_info": {
   "codemirror_mode": {
    "name": "ipython",
    "version": 3
   },
   "file_extension": ".py",
   "mimetype": "text/x-python",
   "name": "python",
   "nbconvert_exporter": "python",
   "pygments_lexer": "ipython3",
   "version": "3.12.5"
  }
 },
 "nbformat": 4,
 "nbformat_minor": 5
}
