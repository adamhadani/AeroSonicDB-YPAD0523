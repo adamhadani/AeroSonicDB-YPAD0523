{
 "cells": [
  {
   "cell_type": "code",
   "execution_count": 1,
   "id": "264aa9e2-6a82-441b-8e28-0c5654f58b42",
   "metadata": {},
   "outputs": [],
   "source": [
    "# Add project directory\n",
    "import sys\n",
    "sys.path.insert(0, '..')\n",
    "\n",
    "import os\n",
    "\n",
    "from aerosonicdb.utils import get_project_root\n",
    "from aerosonicdb.data import download\n",
    "from aerosonicdb.features import extract_mfccs\n",
    "from aerosonicdb.models.mfcc import logistic_regression, mlp\n",
    "from aerosonicdb.models.mfcc import cnn, rnnlstm"
   ]
  },
  {
   "cell_type": "code",
   "execution_count": 2,
   "id": "ec95b87c-f4cc-4b2d-a408-d9b753b68fb4",
   "metadata": {},
   "outputs": [],
   "source": [
    "root_path = get_project_root()\n",
    "dataset_path = os.path.join(root_path, 'data/raw')"
   ]
  },
  {
   "cell_type": "code",
   "execution_count": 3,
   "id": "bc73f38f-8ee1-441c-b46f-32a5360b5bee",
   "metadata": {},
   "outputs": [
    {
     "data": {
      "text/plain": [
       "(WindowsPath('C:/Users/Blake/Documents/Python Scripts/AeroSonicDB-YPAD0523/notebooks/..'),\n",
       " 'C:\\\\Users\\\\Blake\\\\Documents\\\\Python Scripts\\\\AeroSonicDB-YPAD0523\\\\notebooks\\\\..\\\\data/raw')"
      ]
     },
     "execution_count": 3,
     "metadata": {},
     "output_type": "execute_result"
    }
   ],
   "source": [
    "root_path, dataset_path"
   ]
  },
  {
   "cell_type": "code",
   "execution_count": 4,
   "id": "85c13908-0ad5-407f-aed3-060cb6da9553",
   "metadata": {},
   "outputs": [
    {
     "name": "stdout",
     "output_type": "stream",
     "text": [
      "Dataset already downloaded - see the \"./data/raw\" directory.\n"
     ]
    }
   ],
   "source": [
    "# download the dataset\n",
    "download(target_directory=dataset_path)"
   ]
  },
  {
   "cell_type": "code",
   "execution_count": 5,
   "id": "3121add9-60c1-4259-9ef5-ef40307fcee3",
   "metadata": {},
   "outputs": [],
   "source": [
    "# explore the data"
   ]
  },
  {
   "cell_type": "code",
   "execution_count": 6,
   "id": "465c32ee-39ae-4236-ab8d-ebf012f8524d",
   "metadata": {},
   "outputs": [
    {
     "name": "stdout",
     "output_type": "stream",
     "text": [
      "train features already extracted.\n"
     ]
    }
   ],
   "source": [
    "# extract features\n",
    "save_mfccs.save_mfccs(set_str='train')"
   ]
  },
  {
   "cell_type": "code",
   "execution_count": 7,
   "id": "be24f873-c01d-4d1a-954e-31c824d43394",
   "metadata": {},
   "outputs": [
    {
     "name": "stdout",
     "output_type": "stream",
     "text": [
      "Training data loaded.\n",
      "\n",
      "Acc: 93.66% (3.86%)\n"
     ]
    }
   ],
   "source": [
    "# run 10-fold CV with logistic regression and print results\n",
    "lr_mean, lr_std = logistic_regression.run_cv()"
   ]
  },
  {
   "cell_type": "code",
   "execution_count": 8,
   "id": "f8c286ef-8260-4d56-b9b3-c8374b87006a",
   "metadata": {},
   "outputs": [
    {
     "name": "stdout",
     "output_type": "stream",
     "text": [
      "Training data loaded.\n",
      "\n",
      "Model saved to: C:\\Users\\Blake\\Documents\\Python Scripts\\AeroSonicDB-YPAD0523\\notebooks\\..\\models/mfcc_logistic_regression\\mfcc_logistic_regression.sav\n"
     ]
    }
   ],
   "source": [
    "# train logistic regression and save model\n",
    "logistic_regression.train_save_model()"
   ]
  },
  {
   "cell_type": "code",
   "execution_count": 9,
   "id": "6fefbf12-995e-40e4-9dab-6be28a347775",
   "metadata": {},
   "outputs": [
    {
     "name": "stdout",
     "output_type": "stream",
     "text": [
      "Training data loaded.\n",
      "\n",
      "Acc: 94.74% (4.67%)\n"
     ]
    }
   ],
   "source": [
    "# run 10-fold CV with MLP and print results\n",
    "mlp_mean, mlp_std = mlp.run_cv(epochs=50)"
   ]
  },
  {
   "cell_type": "code",
   "execution_count": 10,
   "id": "4970f452-3b23-4ea8-86b4-13124d329bfa",
   "metadata": {},
   "outputs": [
    {
     "name": "stdout",
     "output_type": "stream",
     "text": [
      "Training data loaded.\n",
      "\n",
      "Length of X train: 4054\n",
      "Length of y train: 4054\n",
      "Length of X val: 470\n",
      "Length of y val: 470\n",
      "\n",
      "Model: \"sequential_1\"\n",
      "_________________________________________________________________\n",
      " Layer (type)                Output Shape              Param #   \n",
      "=================================================================\n",
      " flatten_1 (Flatten)         (None, 2808)              0         \n",
      "                                                                 \n",
      " dense_3 (Dense)             (None, 128)               359552    \n",
      "                                                                 \n",
      " dropout_2 (Dropout)         (None, 128)               0         \n",
      "                                                                 \n",
      " dense_4 (Dense)             (None, 32)                4128      \n",
      "                                                                 \n",
      " dropout_3 (Dropout)         (None, 32)                0         \n",
      "                                                                 \n",
      " dense_5 (Dense)             (None, 1)                 33        \n",
      "                                                                 \n",
      "=================================================================\n",
      "Total params: 363713 (1.39 MB)\n",
      "Trainable params: 363713 (1.39 MB)\n",
      "Non-trainable params: 0 (0.00 Byte)\n",
      "_________________________________________________________________\n",
      "Model saved to C:\\Users\\Blake\\Documents\\Python Scripts\\AeroSonicDB-YPAD0523\\notebooks\\..\\models\\mfcc_mlp\\model.\n",
      "\n"
     ]
    }
   ],
   "source": [
    "# train multi layer perceptron and save model\n",
    "mlp.train_save_model(epochs=50)"
   ]
  },
  {
   "cell_type": "code",
   "execution_count": 11,
   "id": "dfe4bdca-99f9-4fb9-bf89-082a8e13477b",
   "metadata": {},
   "outputs": [
    {
     "name": "stdout",
     "output_type": "stream",
     "text": [
      "Training data loaded.\n",
      "\n",
      "Acc: 93.83% (4.52%)\n"
     ]
    }
   ],
   "source": [
    "# run 10-fold CV with CNN and print results\n",
    "cnn_mean, cnn_std = cnn.run_cv(epochs=50)"
   ]
  },
  {
   "cell_type": "code",
   "execution_count": 12,
   "id": "0c10c3d7-4566-4d4c-9360-ab098bab816a",
   "metadata": {},
   "outputs": [
    {
     "name": "stdout",
     "output_type": "stream",
     "text": [
      "Training data loaded.\n",
      "\n",
      "Length of X train: 4054\n",
      "Length of y train: 4054\n",
      "Length of X val: 470\n",
      "Length of y val: 470\n",
      "\n",
      "Model: \"sequential_3\"\n",
      "_________________________________________________________________\n",
      " Layer (type)                Output Shape              Param #   \n",
      "=================================================================\n",
      " conv2d_3 (Conv2D)           (None, 214, 11, 32)       320       \n",
      "                                                                 \n",
      " max_pooling2d_3 (MaxPoolin  (None, 107, 6, 32)        0         \n",
      " g2D)                                                            \n",
      "                                                                 \n",
      " dropout_8 (Dropout)         (None, 107, 6, 32)        0         \n",
      "                                                                 \n",
      " conv2d_4 (Conv2D)           (None, 105, 4, 32)        9248      \n",
      "                                                                 \n",
      " max_pooling2d_4 (MaxPoolin  (None, 53, 2, 32)         0         \n",
      " g2D)                                                            \n",
      "                                                                 \n",
      " dropout_9 (Dropout)         (None, 53, 2, 32)         0         \n",
      "                                                                 \n",
      " conv2d_5 (Conv2D)           (None, 52, 1, 32)         4128      \n",
      "                                                                 \n",
      " max_pooling2d_5 (MaxPoolin  (None, 26, 1, 32)         0         \n",
      " g2D)                                                            \n",
      "                                                                 \n",
      " dropout_10 (Dropout)        (None, 26, 1, 32)         0         \n",
      "                                                                 \n",
      " flatten_3 (Flatten)         (None, 832)               0         \n",
      "                                                                 \n",
      " dense_8 (Dense)             (None, 32)                26656     \n",
      "                                                                 \n",
      " dropout_11 (Dropout)        (None, 32)                0         \n",
      "                                                                 \n",
      " dense_9 (Dense)             (None, 1)                 33        \n",
      "                                                                 \n",
      "=================================================================\n",
      "Total params: 40385 (157.75 KB)\n",
      "Trainable params: 40385 (157.75 KB)\n",
      "Non-trainable params: 0 (0.00 Byte)\n",
      "_________________________________________________________________\n",
      "Epoch 1/50\n",
      "19/19 [==============================] - 9s 396ms/step - loss: 4.3008 - binary_accuracy: 0.6248 - val_loss: 0.5222 - val_binary_accuracy: 0.8149\n",
      "Epoch 2/50\n",
      "19/19 [==============================] - 7s 356ms/step - loss: 0.4472 - binary_accuracy: 0.7723 - val_loss: 0.3041 - val_binary_accuracy: 0.8660\n",
      "Epoch 3/50\n",
      "19/19 [==============================] - 7s 375ms/step - loss: 0.3110 - binary_accuracy: 0.8717 - val_loss: 0.2428 - val_binary_accuracy: 0.9000\n",
      "Epoch 4/50\n",
      "19/19 [==============================] - 7s 369ms/step - loss: 0.2562 - binary_accuracy: 0.8994 - val_loss: 0.2220 - val_binary_accuracy: 0.9234\n",
      "Epoch 5/50\n",
      "19/19 [==============================] - 7s 377ms/step - loss: 0.1985 - binary_accuracy: 0.9354 - val_loss: 0.2010 - val_binary_accuracy: 0.9298\n",
      "Epoch 6/50\n",
      "19/19 [==============================] - 7s 377ms/step - loss: 0.1663 - binary_accuracy: 0.9440 - val_loss: 0.1937 - val_binary_accuracy: 0.9298\n",
      "Epoch 7/50\n",
      "19/19 [==============================] - 7s 372ms/step - loss: 0.1421 - binary_accuracy: 0.9507 - val_loss: 0.1962 - val_binary_accuracy: 0.9255\n",
      "Epoch 8/50\n",
      "19/19 [==============================] - 7s 390ms/step - loss: 0.1439 - binary_accuracy: 0.9482 - val_loss: 0.1647 - val_binary_accuracy: 0.9426\n",
      "Epoch 9/50\n",
      "19/19 [==============================] - 7s 389ms/step - loss: 0.1418 - binary_accuracy: 0.9549 - val_loss: 0.1640 - val_binary_accuracy: 0.9447\n",
      "Epoch 10/50\n",
      "19/19 [==============================] - 7s 384ms/step - loss: 0.1281 - binary_accuracy: 0.9595 - val_loss: 0.1686 - val_binary_accuracy: 0.9468\n",
      "Epoch 11/50\n",
      "19/19 [==============================] - 7s 389ms/step - loss: 0.1220 - binary_accuracy: 0.9632 - val_loss: 0.1890 - val_binary_accuracy: 0.9340\n",
      "Epoch 12/50\n",
      "19/19 [==============================] - 7s 387ms/step - loss: 0.1245 - binary_accuracy: 0.9605 - val_loss: 0.1682 - val_binary_accuracy: 0.9426\n",
      "Epoch 13/50\n",
      "19/19 [==============================] - 7s 383ms/step - loss: 0.1187 - binary_accuracy: 0.9608 - val_loss: 0.1595 - val_binary_accuracy: 0.9489\n",
      "Epoch 14/50\n",
      "19/19 [==============================] - 7s 379ms/step - loss: 0.1209 - binary_accuracy: 0.9632 - val_loss: 0.1803 - val_binary_accuracy: 0.9319\n",
      "Epoch 15/50\n",
      "19/19 [==============================] - 7s 376ms/step - loss: 0.1136 - binary_accuracy: 0.9642 - val_loss: 0.1607 - val_binary_accuracy: 0.9468\n",
      "Epoch 16/50\n",
      "19/19 [==============================] - 7s 380ms/step - loss: 0.1014 - binary_accuracy: 0.9672 - val_loss: 0.1516 - val_binary_accuracy: 0.9468\n",
      "Epoch 17/50\n",
      "19/19 [==============================] - 7s 382ms/step - loss: 0.1070 - binary_accuracy: 0.9697 - val_loss: 0.1682 - val_binary_accuracy: 0.9383\n",
      "Epoch 18/50\n",
      "19/19 [==============================] - 7s 387ms/step - loss: 0.1049 - binary_accuracy: 0.9682 - val_loss: 0.1652 - val_binary_accuracy: 0.9447\n",
      "Epoch 19/50\n",
      "19/19 [==============================] - 7s 379ms/step - loss: 0.1008 - binary_accuracy: 0.9704 - val_loss: 0.1534 - val_binary_accuracy: 0.9511\n",
      "Epoch 20/50\n",
      "19/19 [==============================] - 7s 382ms/step - loss: 0.0999 - binary_accuracy: 0.9665 - val_loss: 0.1734 - val_binary_accuracy: 0.9447\n",
      "Epoch 21/50\n",
      "19/19 [==============================] - 7s 381ms/step - loss: 0.0972 - binary_accuracy: 0.9704 - val_loss: 0.1644 - val_binary_accuracy: 0.9404\n",
      "Epoch 22/50\n",
      "19/19 [==============================] - 7s 374ms/step - loss: 0.1156 - binary_accuracy: 0.9655 - val_loss: 0.1962 - val_binary_accuracy: 0.9298\n",
      "Epoch 23/50\n",
      "19/19 [==============================] - 7s 377ms/step - loss: 0.0972 - binary_accuracy: 0.9679 - val_loss: 0.1619 - val_binary_accuracy: 0.9468\n",
      "Epoch 24/50\n",
      "19/19 [==============================] - 7s 377ms/step - loss: 0.0910 - binary_accuracy: 0.9739 - val_loss: 0.1656 - val_binary_accuracy: 0.9447\n",
      "Epoch 25/50\n",
      "19/19 [==============================] - 7s 380ms/step - loss: 0.0858 - binary_accuracy: 0.9734 - val_loss: 0.1605 - val_binary_accuracy: 0.9468\n",
      "Epoch 26/50\n",
      "19/19 [==============================] - 7s 380ms/step - loss: 0.0822 - binary_accuracy: 0.9756 - val_loss: 0.1701 - val_binary_accuracy: 0.9447\n",
      "Epoch 27/50\n",
      "19/19 [==============================] - 7s 383ms/step - loss: 0.0915 - binary_accuracy: 0.9751 - val_loss: 0.1702 - val_binary_accuracy: 0.9447\n",
      "Epoch 28/50\n",
      "19/19 [==============================] - 7s 374ms/step - loss: 0.0825 - binary_accuracy: 0.9756 - val_loss: 0.1699 - val_binary_accuracy: 0.9489\n",
      "Epoch 29/50\n",
      "19/19 [==============================] - 7s 391ms/step - loss: 0.0829 - binary_accuracy: 0.9776 - val_loss: 0.1806 - val_binary_accuracy: 0.9426\n",
      "Epoch 30/50\n",
      "19/19 [==============================] - 7s 386ms/step - loss: 0.0775 - binary_accuracy: 0.9780 - val_loss: 0.1812 - val_binary_accuracy: 0.9404\n",
      "Epoch 31/50\n",
      "19/19 [==============================] - 7s 386ms/step - loss: 0.0837 - binary_accuracy: 0.9739 - val_loss: 0.1733 - val_binary_accuracy: 0.9489\n",
      "Epoch 32/50\n",
      "19/19 [==============================] - 7s 379ms/step - loss: 0.0833 - binary_accuracy: 0.9778 - val_loss: 0.1764 - val_binary_accuracy: 0.9489\n",
      "Epoch 33/50\n",
      "19/19 [==============================] - 7s 393ms/step - loss: 0.0755 - binary_accuracy: 0.9773 - val_loss: 0.1731 - val_binary_accuracy: 0.9489\n",
      "Epoch 34/50\n",
      "19/19 [==============================] - 7s 376ms/step - loss: 0.0830 - binary_accuracy: 0.9753 - val_loss: 0.1672 - val_binary_accuracy: 0.9489\n",
      "Epoch 35/50\n",
      "19/19 [==============================] - 7s 370ms/step - loss: 0.0829 - binary_accuracy: 0.9753 - val_loss: 0.1592 - val_binary_accuracy: 0.9511\n",
      "Epoch 36/50\n",
      "19/19 [==============================] - 7s 387ms/step - loss: 0.0843 - binary_accuracy: 0.9746 - val_loss: 0.1856 - val_binary_accuracy: 0.9468\n",
      "Epoch 37/50\n",
      "19/19 [==============================] - 7s 381ms/step - loss: 0.0782 - binary_accuracy: 0.9788 - val_loss: 0.1797 - val_binary_accuracy: 0.9489\n",
      "Epoch 38/50\n",
      "19/19 [==============================] - 7s 390ms/step - loss: 0.0809 - binary_accuracy: 0.9773 - val_loss: 0.1609 - val_binary_accuracy: 0.9489\n",
      "Epoch 39/50\n",
      "19/19 [==============================] - 7s 381ms/step - loss: 0.0730 - binary_accuracy: 0.9805 - val_loss: 0.1578 - val_binary_accuracy: 0.9489\n",
      "Epoch 40/50\n",
      "19/19 [==============================] - 7s 383ms/step - loss: 0.0786 - binary_accuracy: 0.9780 - val_loss: 0.1699 - val_binary_accuracy: 0.9489\n",
      "Epoch 41/50\n",
      "19/19 [==============================] - 7s 375ms/step - loss: 0.0737 - binary_accuracy: 0.9803 - val_loss: 0.1600 - val_binary_accuracy: 0.9489\n",
      "Epoch 42/50\n",
      "19/19 [==============================] - 7s 385ms/step - loss: 0.0760 - binary_accuracy: 0.9808 - val_loss: 0.1673 - val_binary_accuracy: 0.9468\n",
      "Epoch 43/50\n",
      "19/19 [==============================] - 7s 385ms/step - loss: 0.0723 - binary_accuracy: 0.9793 - val_loss: 0.1649 - val_binary_accuracy: 0.9511\n",
      "Epoch 44/50\n",
      "19/19 [==============================] - 7s 383ms/step - loss: 0.0771 - binary_accuracy: 0.9778 - val_loss: 0.1782 - val_binary_accuracy: 0.9447\n",
      "Epoch 45/50\n",
      "19/19 [==============================] - 7s 383ms/step - loss: 0.0754 - binary_accuracy: 0.9793 - val_loss: 0.1956 - val_binary_accuracy: 0.9340\n",
      "Epoch 46/50\n",
      "19/19 [==============================] - 7s 381ms/step - loss: 0.0806 - binary_accuracy: 0.9776 - val_loss: 0.1824 - val_binary_accuracy: 0.9468\n",
      "Epoch 47/50\n",
      "19/19 [==============================] - 7s 380ms/step - loss: 0.0760 - binary_accuracy: 0.9795 - val_loss: 0.2212 - val_binary_accuracy: 0.9085\n",
      "Epoch 48/50\n",
      "19/19 [==============================] - 7s 385ms/step - loss: 0.0806 - binary_accuracy: 0.9783 - val_loss: 0.1815 - val_binary_accuracy: 0.9383\n",
      "Epoch 49/50\n",
      "19/19 [==============================] - 7s 377ms/step - loss: 0.0774 - binary_accuracy: 0.9768 - val_loss: 0.1421 - val_binary_accuracy: 0.9553\n",
      "Epoch 50/50\n",
      "19/19 [==============================] - 7s 381ms/step - loss: 0.0678 - binary_accuracy: 0.9813 - val_loss: 0.1925 - val_binary_accuracy: 0.9404\n",
      "Model saved to C:\\Users\\Blake\\Documents\\Python Scripts\\AeroSonicDB-YPAD0523\\notebooks\\..\\models\\mfcc_cnn\\model.\n",
      "\n"
     ]
    }
   ],
   "source": [
    "# train convolutional neural network and save model\n",
    "cnn.train_save_model(epochs=50)"
   ]
  },
  {
   "cell_type": "code",
   "execution_count": 13,
   "id": "6a60f9de-0dd1-409e-bed0-ee9e51bc005b",
   "metadata": {},
   "outputs": [
    {
     "name": "stdout",
     "output_type": "stream",
     "text": [
      "Training data loaded.\n",
      "\n",
      "Acc: 93.13% (8.40%)\n"
     ]
    }
   ],
   "source": [
    "# run 10-fold CV with RNN-LSTM and print results\n",
    "rnn_mean, rnn_std = rnnlstm.run_cv(epochs=10)"
   ]
  },
  {
   "cell_type": "code",
   "execution_count": 14,
   "id": "5f93257f-722c-4aa8-8b72-0f8454a9973d",
   "metadata": {},
   "outputs": [
    {
     "name": "stdout",
     "output_type": "stream",
     "text": [
      "Training data loaded.\n",
      "\n",
      "Length of X train: 4054\n",
      "Length of y train: 4054\n",
      "Length of X val: 470\n",
      "Length of y val: 470\n",
      "\n",
      "Model: \"sequential_5\"\n",
      "_________________________________________________________________\n",
      " Layer (type)                Output Shape              Param #   \n",
      "=================================================================\n",
      " lstm_2 (LSTM)               (None, 216, 64)           19968     \n",
      "                                                                 \n",
      " lstm_3 (LSTM)               (None, 64)                33024     \n",
      "                                                                 \n",
      " dense_12 (Dense)            (None, 32)                2080      \n",
      "                                                                 \n",
      " dropout_13 (Dropout)        (None, 32)                0         \n",
      "                                                                 \n",
      " dense_13 (Dense)            (None, 1)                 33        \n",
      "                                                                 \n",
      "=================================================================\n",
      "Total params: 55105 (215.25 KB)\n",
      "Trainable params: 55105 (215.25 KB)\n",
      "Non-trainable params: 0 (0.00 Byte)\n",
      "_________________________________________________________________\n",
      "Epoch 1/10\n",
      "19/19 [==============================] - 38s 2s/step - loss: 0.5273 - binary_accuracy: 0.7647 - val_loss: 0.4194 - val_binary_accuracy: 0.8383\n",
      "Epoch 2/10\n",
      "19/19 [==============================] - 31s 2s/step - loss: 0.2660 - binary_accuracy: 0.9134 - val_loss: 0.3657 - val_binary_accuracy: 0.8723\n",
      "Epoch 3/10\n",
      "19/19 [==============================] - 31s 2s/step - loss: 0.1556 - binary_accuracy: 0.9571 - val_loss: 0.3896 - val_binary_accuracy: 0.8660\n",
      "Epoch 4/10\n",
      "19/19 [==============================] - 31s 2s/step - loss: 0.1110 - binary_accuracy: 0.9719 - val_loss: 0.4495 - val_binary_accuracy: 0.8511\n",
      "Epoch 5/10\n",
      "19/19 [==============================] - 31s 2s/step - loss: 0.0983 - binary_accuracy: 0.9741 - val_loss: 0.3553 - val_binary_accuracy: 0.8702\n",
      "Epoch 6/10\n",
      "19/19 [==============================] - 31s 2s/step - loss: 0.0906 - binary_accuracy: 0.9748 - val_loss: 0.3887 - val_binary_accuracy: 0.8681\n",
      "Epoch 7/10\n",
      "19/19 [==============================] - 31s 2s/step - loss: 0.0792 - binary_accuracy: 0.9795 - val_loss: 0.2475 - val_binary_accuracy: 0.9149\n",
      "Epoch 8/10\n",
      "19/19 [==============================] - 31s 2s/step - loss: 0.0791 - binary_accuracy: 0.9790 - val_loss: 0.2598 - val_binary_accuracy: 0.8957\n",
      "Epoch 9/10\n",
      "19/19 [==============================] - 31s 2s/step - loss: 0.0743 - binary_accuracy: 0.9805 - val_loss: 0.4742 - val_binary_accuracy: 0.8511\n",
      "Epoch 10/10\n",
      "19/19 [==============================] - 31s 2s/step - loss: 0.1220 - binary_accuracy: 0.9598 - val_loss: 0.4275 - val_binary_accuracy: 0.8681\n",
      "Model saved to C:\\Users\\Blake\\Documents\\Python Scripts\\AeroSonicDB-YPAD0523\\notebooks\\..\\models\\mfcc_rnnlstm\\model.\n",
      "\n"
     ]
    }
   ],
   "source": [
    "# train RNN-LSTM and save model\n",
    "rnnlstm.train_save_model(epochs=10)"
   ]
  },
  {
   "cell_type": "code",
   "execution_count": null,
   "id": "0dc07b66-3398-4308-b00a-af362fc56c71",
   "metadata": {},
   "outputs": [],
   "source": []
  },
  {
   "cell_type": "code",
   "execution_count": null,
   "id": "a9a6e10c-c982-445e-8af6-434d63682bd7",
   "metadata": {},
   "outputs": [],
   "source": []
  },
  {
   "cell_type": "code",
   "execution_count": null,
   "id": "c2450547-d702-4a56-ac00-bee1a47bbd0d",
   "metadata": {},
   "outputs": [],
   "source": []
  },
  {
   "cell_type": "code",
   "execution_count": null,
   "id": "41caea20-a332-48b7-b137-b9559c1a33eb",
   "metadata": {},
   "outputs": [],
   "source": []
  },
  {
   "cell_type": "code",
   "execution_count": null,
   "id": "3620df83-4b67-437a-b4d5-5a41b9d034e1",
   "metadata": {},
   "outputs": [],
   "source": []
  },
  {
   "cell_type": "code",
   "execution_count": null,
   "id": "c3f4f377-f01e-402b-ba78-cbdd4f82fbc3",
   "metadata": {},
   "outputs": [],
   "source": []
  },
  {
   "cell_type": "code",
   "execution_count": null,
   "id": "503afed5-9fbf-4b95-8ecd-121ddd253657",
   "metadata": {},
   "outputs": [],
   "source": []
  },
  {
   "cell_type": "code",
   "execution_count": null,
   "id": "39336cb6-f5e2-4879-9396-0151c0156930",
   "metadata": {},
   "outputs": [],
   "source": []
  }
 ],
 "metadata": {
  "kernelspec": {
   "display_name": "Python 3 (ipykernel)",
   "language": "python",
   "name": "python3"
  },
  "language_info": {
   "codemirror_mode": {
    "name": "ipython",
    "version": 3
   },
   "file_extension": ".py",
   "mimetype": "text/x-python",
   "name": "python",
   "nbconvert_exporter": "python",
   "pygments_lexer": "ipython3",
   "version": "3.9.13"
  }
 },
 "nbformat": 4,
 "nbformat_minor": 5
}
