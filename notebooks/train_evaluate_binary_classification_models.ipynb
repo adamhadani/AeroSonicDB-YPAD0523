{
 "cells": [
  {
   "cell_type": "code",
   "execution_count": 1,
   "id": "264aa9e2-6a82-441b-8e28-0c5654f58b42",
   "metadata": {},
   "outputs": [],
   "source": [
    "# Add project directory\n",
    "import sys\n",
    "sys.path.insert(0, '..')\n",
    "\n",
    "import os\n",
    "\n",
    "from aerosonicdb.utils import get_project_root\n",
    "from aerosonicdb.data import download\n",
    "from aerosonicdb.features import extract_mfccs\n",
    "from aerosonicdb.models.mfcc import logistic_regression, mlp\n",
    "from aerosonicdb.models.mfcc import cnn, rnnlstm"
   ]
  },
  {
   "cell_type": "code",
   "execution_count": 2,
   "id": "ec95b87c-f4cc-4b2d-a408-d9b753b68fb4",
   "metadata": {},
   "outputs": [],
   "source": [
    "root_path = get_project_root()\n",
    "dataset_path = os.path.join(root_path, 'data/raw')"
   ]
  },
  {
   "cell_type": "code",
   "execution_count": 3,
   "id": "bc73f38f-8ee1-441c-b46f-32a5360b5bee",
   "metadata": {},
   "outputs": [
    {
     "data": {
      "text/plain": [
       "(WindowsPath('C:/Users/Blake/PycharmProjects/AeroSonicDB-YPAD0523/notebooks/..'),\n",
       " 'C:\\\\Users\\\\Blake\\\\PycharmProjects\\\\AeroSonicDB-YPAD0523\\\\notebooks\\\\..\\\\data/raw')"
      ]
     },
     "execution_count": 3,
     "metadata": {},
     "output_type": "execute_result"
    }
   ],
   "source": [
    "root_path, dataset_path"
   ]
  },
  {
   "cell_type": "code",
   "execution_count": 4,
   "id": "85c13908-0ad5-407f-aed3-060cb6da9553",
   "metadata": {},
   "outputs": [
    {
     "name": "stdout",
     "output_type": "stream",
     "text": [
      "Dataset already downloaded - see C:\\Users\\Blake\\PycharmProjects\\AeroSonicDB-YPAD0523\\notebooks\\..\\data/raw\n"
     ]
    }
   ],
   "source": [
    "# download the dataset\n",
    "download(target_path=dataset_path)"
   ]
  },
  {
   "cell_type": "code",
   "execution_count": 5,
   "id": "465c32ee-39ae-4236-ab8d-ebf012f8524d",
   "metadata": {},
   "outputs": [
    {
     "name": "stdout",
     "output_type": "stream",
     "text": [
      "train features already extracted.\n"
     ]
    }
   ],
   "source": [
    "# extract features for the train set\n",
    "extract_mfccs.save_mfccs(set_str='train')"
   ]
  },
  {
   "cell_type": "code",
   "execution_count": 6,
   "id": "be24f873-c01d-4d1a-954e-31c824d43394",
   "metadata": {},
   "outputs": [
    {
     "name": "stdout",
     "output_type": "stream",
     "text": [
      "Training data loaded.\n",
      "\n",
      "Average Precision Score: 98.99% (0.62%)\n",
      "Macro Precision Score: 94.16% (3.07%)\n",
      "Micro Precision Score: 93.66% (3.86%)\n"
     ]
    }
   ],
   "source": [
    "# run 10-fold CV with logistic regression and print results\n",
    "lr_mean, lr_std = logistic_regression.run_cv()"
   ]
  },
  {
   "cell_type": "code",
   "execution_count": 7,
   "id": "f8c286ef-8260-4d56-b9b3-c8374b87006a",
   "metadata": {},
   "outputs": [
    {
     "name": "stdout",
     "output_type": "stream",
     "text": [
      "Training data loaded.\n",
      "\n",
      "Model saved to: C:\\Users\\Blake\\PycharmProjects\\AeroSonicDB-YPAD0523\\notebooks\\..\\models/mfcc_logistic_regression\\mfcc_logistic_regression.sav\n"
     ]
    }
   ],
   "source": [
    "# train logistic regression and save model\n",
    "logistic_regression.train_save_model()"
   ]
  },
  {
   "cell_type": "code",
   "execution_count": 8,
   "id": "6fefbf12-995e-40e4-9dab-6be28a347775",
   "metadata": {},
   "outputs": [
    {
     "name": "stdout",
     "output_type": "stream",
     "text": [
      "Training data loaded.\n",
      "\n",
      "Average Precision Score: 99.32% (1.12%)\n",
      "Macro Precision Score: 95.25% (3.63%)\n",
      "Micro Precision Score: 94.74% (4.67%)\n"
     ]
    }
   ],
   "source": [
    "# run 10-fold CV with MLP and print results\n",
    "mlp_mean, mlp_std = mlp.run_cv(epochs=50)"
   ]
  },
  {
   "cell_type": "code",
   "execution_count": 9,
   "id": "4970f452-3b23-4ea8-86b4-13124d329bfa",
   "metadata": {},
   "outputs": [
    {
     "name": "stdout",
     "output_type": "stream",
     "text": [
      "Training data loaded.\n",
      "\n",
      "Length of X train: 4054\n",
      "Length of y train: 4054\n",
      "Length of X val: 470\n",
      "Length of y val: 470\n",
      "\n",
      "Model: \"sequential_1\"\n",
      "_________________________________________________________________\n",
      " Layer (type)                Output Shape              Param #   \n",
      "=================================================================\n",
      " flatten_1 (Flatten)         (None, 2808)              0         \n",
      "                                                                 \n",
      " dense_3 (Dense)             (None, 128)               359552    \n",
      "                                                                 \n",
      " dropout_2 (Dropout)         (None, 128)               0         \n",
      "                                                                 \n",
      " dense_4 (Dense)             (None, 32)                4128      \n",
      "                                                                 \n",
      " dropout_3 (Dropout)         (None, 32)                0         \n",
      "                                                                 \n",
      " dense_5 (Dense)             (None, 1)                 33        \n",
      "                                                                 \n",
      "=================================================================\n",
      "Total params: 363713 (1.39 MB)\n",
      "Trainable params: 363713 (1.39 MB)\n",
      "Non-trainable params: 0 (0.00 Byte)\n",
      "_________________________________________________________________\n",
      "Model saved to C:\\Users\\Blake\\PycharmProjects\\AeroSonicDB-YPAD0523\\notebooks\\..\\models\\mfcc_mlp\\model.\n",
      "\n"
     ]
    }
   ],
   "source": [
    "# train multi layer perceptron and save model\n",
    "mlp.train_save_model(epochs=50)"
   ]
  },
  {
   "cell_type": "code",
   "execution_count": 10,
   "id": "dfe4bdca-99f9-4fb9-bf89-082a8e13477b",
   "metadata": {},
   "outputs": [
    {
     "name": "stdout",
     "output_type": "stream",
     "text": [
      "Training data loaded.\n",
      "\n",
      "Average Precision Score: 99.37% (0.41%)\n",
      "Macro Precision Score: 94.58% (3.29%)\n",
      "Micro Precision Score: 93.83% (4.52%)\n"
     ]
    }
   ],
   "source": [
    "# run 10-fold CV with CNN and print results\n",
    "cnn_mean, cnn_std = cnn.run_cv(epochs=50)"
   ]
  },
  {
   "cell_type": "code",
   "execution_count": 11,
   "id": "0c10c3d7-4566-4d4c-9360-ab098bab816a",
   "metadata": {},
   "outputs": [
    {
     "name": "stdout",
     "output_type": "stream",
     "text": [
      "Training data loaded.\n",
      "\n",
      "Length of X train: 4054\n",
      "Length of y train: 4054\n",
      "Length of X val: 470\n",
      "Length of y val: 470\n",
      "\n",
      "Model: \"sequential_3\"\n",
      "_________________________________________________________________\n",
      " Layer (type)                Output Shape              Param #   \n",
      "=================================================================\n",
      " conv2d_3 (Conv2D)           (None, 214, 11, 32)       320       \n",
      "                                                                 \n",
      " max_pooling2d_3 (MaxPoolin  (None, 107, 6, 32)        0         \n",
      " g2D)                                                            \n",
      "                                                                 \n",
      " dropout_8 (Dropout)         (None, 107, 6, 32)        0         \n",
      "                                                                 \n",
      " conv2d_4 (Conv2D)           (None, 105, 4, 32)        9248      \n",
      "                                                                 \n",
      " max_pooling2d_4 (MaxPoolin  (None, 53, 2, 32)         0         \n",
      " g2D)                                                            \n",
      "                                                                 \n",
      " dropout_9 (Dropout)         (None, 53, 2, 32)         0         \n",
      "                                                                 \n",
      " conv2d_5 (Conv2D)           (None, 52, 1, 32)         4128      \n",
      "                                                                 \n",
      " max_pooling2d_5 (MaxPoolin  (None, 26, 1, 32)         0         \n",
      " g2D)                                                            \n",
      "                                                                 \n",
      " dropout_10 (Dropout)        (None, 26, 1, 32)         0         \n",
      "                                                                 \n",
      " flatten_3 (Flatten)         (None, 832)               0         \n",
      "                                                                 \n",
      " dense_8 (Dense)             (None, 32)                26656     \n",
      "                                                                 \n",
      " dropout_11 (Dropout)        (None, 32)                0         \n",
      "                                                                 \n",
      " dense_9 (Dense)             (None, 1)                 33        \n",
      "                                                                 \n",
      "=================================================================\n",
      "Total params: 40385 (157.75 KB)\n",
      "Trainable params: 40385 (157.75 KB)\n",
      "Non-trainable params: 0 (0.00 Byte)\n",
      "_________________________________________________________________\n",
      "Model saved to C:\\Users\\Blake\\PycharmProjects\\AeroSonicDB-YPAD0523\\notebooks\\..\\models\\mfcc_cnn\\model.\n",
      "\n"
     ]
    }
   ],
   "source": [
    "# train convolutional neural network and save model\n",
    "cnn.train_save_model(epochs=50)"
   ]
  },
  {
   "cell_type": "code",
   "execution_count": 12,
   "id": "6a60f9de-0dd1-409e-bed0-ee9e51bc005b",
   "metadata": {},
   "outputs": [
    {
     "name": "stdout",
     "output_type": "stream",
     "text": [
      "Training data loaded.\n",
      "\n",
      "Average Precision Score: 99.08% (1.22%)\n",
      "Macro Precision Score: 94.48% (5.47%)\n",
      "Micro Precision Score: 93.13% (8.40%)\n"
     ]
    }
   ],
   "source": [
    "# run 10-fold CV with RNN-LSTM and print results\n",
    "rnn_mean, rnn_std = rnnlstm.run_cv(epochs=10)"
   ]
  },
  {
   "cell_type": "code",
   "execution_count": 13,
   "id": "5f93257f-722c-4aa8-8b72-0f8454a9973d",
   "metadata": {},
   "outputs": [
    {
     "name": "stdout",
     "output_type": "stream",
     "text": [
      "Training data loaded.\n",
      "\n",
      "Length of X train: 4054\n",
      "Length of y train: 4054\n",
      "Length of X val: 470\n",
      "Length of y val: 470\n",
      "\n",
      "Model: \"sequential_5\"\n",
      "_________________________________________________________________\n",
      " Layer (type)                Output Shape              Param #   \n",
      "=================================================================\n",
      " lstm_2 (LSTM)               (None, 216, 64)           19968     \n",
      "                                                                 \n",
      " lstm_3 (LSTM)               (None, 64)                33024     \n",
      "                                                                 \n",
      " dense_12 (Dense)            (None, 32)                2080      \n",
      "                                                                 \n",
      " dropout_13 (Dropout)        (None, 32)                0         \n",
      "                                                                 \n",
      " dense_13 (Dense)            (None, 1)                 33        \n",
      "                                                                 \n",
      "=================================================================\n",
      "Total params: 55105 (215.25 KB)\n",
      "Trainable params: 55105 (215.25 KB)\n",
      "Non-trainable params: 0 (0.00 Byte)\n",
      "_________________________________________________________________\n",
      "Model saved to C:\\Users\\Blake\\PycharmProjects\\AeroSonicDB-YPAD0523\\notebooks\\..\\models\\mfcc_rnnlstm\\model.\n",
      "\n"
     ]
    }
   ],
   "source": [
    "# train RNN-LSTM and save model\n",
    "rnnlstm.train_save_model(epochs=10)"
   ]
  }
 ],
 "metadata": {
  "kernelspec": {
   "display_name": "Python 3 (ipykernel)",
   "language": "python",
   "name": "python3"
  },
  "language_info": {
   "codemirror_mode": {
    "name": "ipython",
    "version": 3
   },
   "file_extension": ".py",
   "mimetype": "text/x-python",
   "name": "python",
   "nbconvert_exporter": "python",
   "pygments_lexer": "ipython3",
   "version": "3.11.4"
  }
 },
 "nbformat": 4,
 "nbformat_minor": 5
}
