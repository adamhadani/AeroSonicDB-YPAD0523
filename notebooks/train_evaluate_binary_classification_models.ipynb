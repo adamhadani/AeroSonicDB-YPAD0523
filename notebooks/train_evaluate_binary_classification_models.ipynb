{
 "cells": [
  {
   "cell_type": "code",
   "execution_count": null,
   "id": "264aa9e2-6a82-441b-8e28-0c5654f58b42",
   "metadata": {},
   "outputs": [],
   "source": [
    "# Add project directory\n",
    "import sys\n",
    "sys.path.insert(0, '..')\n",
    "\n",
    "import os\n",
    "\n",
    "from aerosonicdb.utils import get_project_root\n",
    "from aerosonicdb.data import download\n",
    "from aerosonicdb.features import extract_mfccs\n",
    "from aerosonicdb.models.mfcc import logistic_regression, mlp\n",
    "from aerosonicdb.models.mfcc import cnn, rnnlstm"
   ]
  },
  {
   "cell_type": "code",
   "execution_count": null,
   "id": "ec95b87c-f4cc-4b2d-a408-d9b753b68fb4",
   "metadata": {},
   "outputs": [],
   "source": [
    "root_path = get_project_root()\n",
    "dataset_path = os.path.join(root_path, 'data/raw')"
   ]
  },
  {
   "cell_type": "code",
   "execution_count": null,
   "id": "bc73f38f-8ee1-441c-b46f-32a5360b5bee",
   "metadata": {},
   "outputs": [],
   "source": [
    "root_path, dataset_path"
   ]
  },
  {
   "cell_type": "code",
   "execution_count": null,
   "id": "85c13908-0ad5-407f-aed3-060cb6da9553",
   "metadata": {},
   "outputs": [],
   "source": [
    "# download the dataset\n",
    "download(target_path=dataset_path)"
   ]
  },
  {
   "cell_type": "code",
   "execution_count": null,
   "id": "465c32ee-39ae-4236-ab8d-ebf012f8524d",
   "metadata": {},
   "outputs": [],
   "source": [
    "# extract features for the train set\n",
    "extract_mfccs.save_mfccs(set_str='train')"
   ]
  },
  {
   "cell_type": "code",
   "execution_count": null,
   "id": "be24f873-c01d-4d1a-954e-31c824d43394",
   "metadata": {},
   "outputs": [],
   "source": [
    "# run 10-fold CV with logistic regression and print results\n",
    "lr_mean, lr_std = logistic_regression.run_cv()"
   ]
  },
  {
   "cell_type": "code",
   "execution_count": null,
   "id": "f8c286ef-8260-4d56-b9b3-c8374b87006a",
   "metadata": {},
   "outputs": [],
   "source": [
    "# train logistic regression and save model\n",
    "logistic_regression.train_save_model()"
   ]
  },
  {
   "cell_type": "code",
   "execution_count": null,
   "id": "6fefbf12-995e-40e4-9dab-6be28a347775",
   "metadata": {},
   "outputs": [],
   "source": [
    "# run 10-fold CV with MLP and print results\n",
    "mlp_mean, mlp_std = mlp.run_cv(epochs=50)"
   ]
  },
  {
   "cell_type": "code",
   "execution_count": null,
   "id": "4970f452-3b23-4ea8-86b4-13124d329bfa",
   "metadata": {},
   "outputs": [],
   "source": [
    "# train multi layer perceptron and save model\n",
    "mlp.train_save_model(epochs=50)"
   ]
  },
  {
   "cell_type": "code",
   "execution_count": null,
   "id": "dfe4bdca-99f9-4fb9-bf89-082a8e13477b",
   "metadata": {},
   "outputs": [],
   "source": [
    "# run 10-fold CV with CNN and print results\n",
    "cnn_mean, cnn_std = cnn.run_cv(epochs=50)"
   ]
  },
  {
   "cell_type": "code",
   "execution_count": null,
   "id": "0c10c3d7-4566-4d4c-9360-ab098bab816a",
   "metadata": {},
   "outputs": [],
   "source": [
    "# train convolutional neural network and save model\n",
    "cnn.train_save_model(epochs=50)"
   ]
  },
  {
   "cell_type": "code",
   "execution_count": null,
   "id": "6a60f9de-0dd1-409e-bed0-ee9e51bc005b",
   "metadata": {},
   "outputs": [],
   "source": [
    "# run 10-fold CV with RNN-LSTM and print results\n",
    "rnn_mean, rnn_std = rnnlstm.run_cv(epochs=10)"
   ]
  },
  {
   "cell_type": "code",
   "execution_count": null,
   "id": "5f93257f-722c-4aa8-8b72-0f8454a9973d",
   "metadata": {},
   "outputs": [],
   "source": [
    "# train RNN-LSTM and save model\n",
    "rnnlstm.train_save_model(epochs=10)"
   ]
  },
  {
   "cell_type": "code",
   "execution_count": null,
   "id": "0dc07b66-3398-4308-b00a-af362fc56c71",
   "metadata": {},
   "outputs": [],
   "source": []
  },
  {
   "cell_type": "code",
   "execution_count": null,
   "id": "a9a6e10c-c982-445e-8af6-434d63682bd7",
   "metadata": {},
   "outputs": [],
   "source": []
  },
  {
   "cell_type": "code",
   "execution_count": null,
   "id": "c2450547-d702-4a56-ac00-bee1a47bbd0d",
   "metadata": {},
   "outputs": [],
   "source": []
  },
  {
   "cell_type": "code",
   "execution_count": null,
   "id": "41caea20-a332-48b7-b137-b9559c1a33eb",
   "metadata": {},
   "outputs": [],
   "source": []
  },
  {
   "cell_type": "code",
   "execution_count": null,
   "id": "3620df83-4b67-437a-b4d5-5a41b9d034e1",
   "metadata": {},
   "outputs": [],
   "source": []
  },
  {
   "cell_type": "code",
   "execution_count": null,
   "id": "c3f4f377-f01e-402b-ba78-cbdd4f82fbc3",
   "metadata": {},
   "outputs": [],
   "source": []
  },
  {
   "cell_type": "code",
   "execution_count": null,
   "id": "503afed5-9fbf-4b95-8ecd-121ddd253657",
   "metadata": {},
   "outputs": [],
   "source": []
  },
  {
   "cell_type": "code",
   "execution_count": null,
   "id": "39336cb6-f5e2-4879-9396-0151c0156930",
   "metadata": {},
   "outputs": [],
   "source": []
  }
 ],
 "metadata": {
  "kernelspec": {
   "display_name": "Python 3 (ipykernel)",
   "language": "python",
   "name": "python3"
  },
  "language_info": {
   "codemirror_mode": {
    "name": "ipython",
    "version": 3
   },
   "file_extension": ".py",
   "mimetype": "text/x-python",
   "name": "python",
   "nbconvert_exporter": "python",
   "pygments_lexer": "ipython3",
   "version": "3.9.13"
  }
 },
 "nbformat": 4,
 "nbformat_minor": 5
}
