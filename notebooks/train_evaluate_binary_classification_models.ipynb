{
 "cells": [
  {
   "cell_type": "code",
   "execution_count": 1,
   "id": "264aa9e2-6a82-441b-8e28-0c5654f58b42",
   "metadata": {},
   "outputs": [],
   "source": [
    "# Add project directory\n",
    "import sys\n",
    "sys.path.insert(0, '..')\n",
    "\n",
    "import os\n",
    "\n",
    "from aerosonicdb.utils import get_project_root\n",
    "from aerosonicdb.data import download\n",
    "from aerosonicdb.features import extract_mfccs\n",
    "from aerosonicdb.features import extract_env_mfccs\n",
    "from aerosonicdb.models.mfcc import logistic_regression, mlp\n",
    "from aerosonicdb.models.mfcc import cnn, rnnlstm"
   ]
  },
  {
   "cell_type": "code",
   "execution_count": 2,
   "id": "ec95b87c-f4cc-4b2d-a408-d9b753b68fb4",
   "metadata": {},
   "outputs": [],
   "source": [
    "root_path = get_project_root()\n",
    "dataset_path = os.path.join(root_path, 'data/raw')"
   ]
  },
  {
   "cell_type": "code",
   "execution_count": 3,
   "id": "bc73f38f-8ee1-441c-b46f-32a5360b5bee",
   "metadata": {},
   "outputs": [
    {
     "data": {
      "text/plain": [
       "(WindowsPath('C:/Users/Blake/PycharmProjects/AeroSonicDB-YPAD0523/notebooks/..'),\n",
       " 'C:\\\\Users\\\\Blake\\\\PycharmProjects\\\\AeroSonicDB-YPAD0523\\\\notebooks\\\\..\\\\data/raw')"
      ]
     },
     "execution_count": 3,
     "metadata": {},
     "output_type": "execute_result"
    }
   ],
   "source": [
    "root_path, dataset_path"
   ]
  },
  {
   "cell_type": "code",
   "execution_count": 4,
   "id": "85c13908-0ad5-407f-aed3-060cb6da9553",
   "metadata": {},
   "outputs": [
    {
     "name": "stdout",
     "output_type": "stream",
     "text": [
      "Dataset already downloaded - see C:\\Users\\Blake\\PycharmProjects\\AeroSonicDB-YPAD0523\\notebooks\\..\\data/raw\n"
     ]
    }
   ],
   "source": [
    "# download the dataset\n",
    "download(target_path=dataset_path)"
   ]
  },
  {
   "cell_type": "code",
   "execution_count": 5,
   "id": "465c32ee-39ae-4236-ab8d-ebf012f8524d",
   "metadata": {},
   "outputs": [
    {
     "name": "stdout",
     "output_type": "stream",
     "text": [
      "train features already extracted.\n"
     ]
    }
   ],
   "source": [
    "# extract features for the train set\n",
    "extract_mfccs.save_mfccs(set_str='train')"
   ]
  },
  {
   "cell_type": "code",
   "execution_count": 5,
   "id": "767825ef-713e-49ac-8128-3d8471128e28",
   "metadata": {},
   "outputs": [
    {
     "name": "stdout",
     "output_type": "stream",
     "text": [
      "train features already extracted.\n"
     ]
    }
   ],
   "source": [
    "# extract features for the test set\n",
    "extract_mfccs.save_mfccs(set_str='test')"
   ]
  },
  {
   "cell_type": "code",
   "execution_count": 5,
   "id": "c4f0b837-cded-41d6-8499-c76e9d5e261b",
   "metadata": {},
   "outputs": [
    {
     "name": "stdout",
     "output_type": "stream",
     "text": [
      "train features already extracted.\n"
     ]
    }
   ],
   "source": [
    "# extract features for the environment set\n",
    "extract_env_mfccs.extract_all_env_feats()"
   ]
  },
  {
   "cell_type": "code",
   "execution_count": 6,
   "id": "be24f873-c01d-4d1a-954e-31c824d43394",
   "metadata": {},
   "outputs": [
    {
     "name": "stdout",
     "output_type": "stream",
     "text": [
      "\n",
      "Training data loaded.\n",
      "\n",
      "Running 10-fold cross-validation...\n",
      "CV results:\n",
      "[0.97637696 0.99571268 0.99281047 0.99323313 0.9874602  0.99244348\n",
      " 0.98116918 0.98958652 0.9971081  0.99311307]\n",
      "Average Precision Score for 10-fold CV: 98.99% (0.62%)\n",
      "\n",
      "Running 10-model evaluation against Test set...\n",
      "\n",
      "Test data loaded.\n",
      "\n",
      "Test evaluation results:\n",
      "[0.9957370321893153, 0.9966984162541911, 0.996503044983092, 0.9964033368619089, 0.9962611110431339, 0.9963922480760298, 0.9963835592690622, 0.9969252247456627, 0.9974198435957665, 0.996344153616917]\n",
      "Average Precision Score against Test set: 99.65% (0.04%)\n",
      "\n",
      "Running 10-model evaluation against the Environment set...\n",
      "\n",
      "Environment test data loaded.\n",
      "Environment evaluation results:\n",
      "[0.7937978080859566, 0.794254118738723, 0.7986706696855724, 0.7989080096260676, 0.8020987133376998, 0.7982549928545433, 0.7975446173952946, 0.7993990236860739, 0.7832176454935815, 0.7954513392711429]\n",
      "Average Precision Score against Environment set: 79.62% (0.49%)\n"
     ]
    }
   ],
   "source": [
    "# run 10-fold CV with logistic regression, test against Test and Environment and print results\n",
    "lr_cv, lr_test, lr_env = logistic_regression.run_cv()"
   ]
  },
  {
   "cell_type": "code",
   "execution_count": 7,
   "id": "6fefbf12-995e-40e4-9dab-6be28a347775",
   "metadata": {},
   "outputs": [
    {
     "name": "stdout",
     "output_type": "stream",
     "text": [
      "\n",
      "Training data loaded.\n",
      "\n",
      "Running 10-fold cross-validation...\n",
      "CV results:\n",
      "[0.96009255 0.99582553 0.99770857 0.9996623  0.99422271 0.99749396\n",
      " 0.99321098 0.998325   0.99933314 0.99622813]\n",
      "Average Precision Score for 10-fold CV: 99.32% (1.12%)\n",
      "\n",
      "Running 10-model evaluation against Test set...\n",
      "\n",
      "Test data loaded.\n",
      "\n",
      "Test evaluation results:\n",
      "[0.9893979224070658, 0.9951699744514452, 0.99786966567994, 0.9998214298396564, 0.9997491063029667, 0.9987291662840146, 0.9992972755018208, 0.999679017823844, 0.9997861747178183, 0.9998214298396564]\n",
      "Average Precision Score against Test set: 99.79% (0.32%)\n",
      "\n",
      "Running 10-model evaluation against the Environment set...\n",
      "\n",
      "Environment test data loaded.\n",
      "Environment evaluation results:\n",
      "[0.5119625377032132, 0.8390447897182393, 0.6129027612647318, 0.7713856881980936, 0.7207754244722735, 0.5493398922683471, 0.7648976726183944, 0.8355890963790086, 0.8092237702848674, 0.809648696442879]\n",
      "Average Precision Score against Environment set: 72.25% (11.49%)\n"
     ]
    }
   ],
   "source": [
    "# run 10-fold CV with MLP, test against Test and Environment and print results\n",
    "mlp_cv, mlp_test, mlp_env = mlp.run_cv(epochs=50)"
   ]
  },
  {
   "cell_type": "code",
   "execution_count": 8,
   "id": "dfe4bdca-99f9-4fb9-bf89-082a8e13477b",
   "metadata": {},
   "outputs": [
    {
     "name": "stdout",
     "output_type": "stream",
     "text": [
      "\n",
      "Training data loaded.\n",
      "\n",
      "Running 10-fold cross-validation...\n",
      "CV results:\n",
      "[0.98886593 0.99459044 0.9912718  0.99490298 0.99264209 0.99820065\n",
      " 0.98507758 0.99534357 0.99960412 0.99601983]\n",
      "Average Precision Score for 10-fold CV: 99.37% (0.41%)\n",
      "\n",
      "Running 10-model evaluation against Test set...\n",
      "\n",
      "Test data loaded.\n",
      "\n",
      "Test evaluation results:\n",
      "[0.9949214082601454, 0.9940977811320869, 0.995132776364976, 0.9945543109360311, 0.9946245797880886, 0.9960883692290879, 0.9959264910441642, 0.9949084565782158, 0.9948713080905447, 0.9933954394674749]\n",
      "Average Precision Score against Test set: 99.49% (0.07%)\n",
      "\n",
      "Running 10-model evaluation against the Environment set...\n",
      "\n",
      "Environment test data loaded.\n",
      "Environment evaluation results:\n",
      "[0.8209159236677798, 0.7625746097782835, 0.7898474530259875, 0.8362101613727897, 0.8201994513491638, 0.8277294060548548, 0.8114194196237295, 0.8374844885124119, 0.8426244841161656, 0.7947344351527386]\n",
      "Average Precision Score against Environment set: 81.44% (2.40%)\n"
     ]
    }
   ],
   "source": [
    "# run 10-fold CV with CNN, test against Test and Environment and print results\n",
    "cnn_cv, cnn_test, cnn_env = cnn.run_cv(epochs=50)"
   ]
  },
  {
   "cell_type": "code",
   "execution_count": 9,
   "id": "2fe6877c-33bb-4f1f-aefc-5898be9a1326",
   "metadata": {},
   "outputs": [
    {
     "data": {
      "text/plain": [
       "(98.99013789048396,\n",
       " 0.6223089492299467,\n",
       " array([0.97637696, 0.99571268, 0.99281047, 0.99323313, 0.9874602 ,\n",
       "        0.99244348, 0.98116918, 0.98958652, 0.9971081 , 0.99311307]))"
      ]
     },
     "execution_count": 9,
     "metadata": {},
     "output_type": "execute_result"
    }
   ],
   "source": [
    "lr_cv"
   ]
  },
  {
   "cell_type": "code",
   "execution_count": 10,
   "id": "0af156e6-162d-46dc-bfbb-3aaa5e5bd785",
   "metadata": {},
   "outputs": [
    {
     "data": {
      "text/plain": [
       "(99.32102863355918,\n",
       " 1.1214359200649127,\n",
       " array([0.96009255, 0.99582553, 0.99770857, 0.9996623 , 0.99422271,\n",
       "        0.99749396, 0.99321098, 0.998325  , 0.99933314, 0.99622813]))"
      ]
     },
     "execution_count": 10,
     "metadata": {},
     "output_type": "execute_result"
    }
   ],
   "source": [
    "mlp_cv"
   ]
  },
  {
   "cell_type": "code",
   "execution_count": 11,
   "id": "1e90ab6f-3ed3-4516-bbdf-f837e88d04ee",
   "metadata": {},
   "outputs": [
    {
     "data": {
      "text/plain": [
       "(99.36518997299683,\n",
       " 0.41248508555458235,\n",
       " array([0.98886593, 0.99459044, 0.9912718 , 0.99490298, 0.99264209,\n",
       "        0.99820065, 0.98507758, 0.99534357, 0.99960412, 0.99601983]))"
      ]
     },
     "execution_count": 11,
     "metadata": {},
     "output_type": "execute_result"
    }
   ],
   "source": [
    "cnn_cv"
   ]
  },
  {
   "cell_type": "code",
   "execution_count": 12,
   "id": "d62712c9-ce41-4722-ac27-cf707edc575b",
   "metadata": {},
   "outputs": [
    {
     "data": {
      "text/plain": [
       "(99.6506797063508,\n",
       " 0.041998014218560656,\n",
       " [0.9957370321893153,\n",
       "  0.9966984162541911,\n",
       "  0.996503044983092,\n",
       "  0.9964033368619089,\n",
       "  0.9962611110431339,\n",
       "  0.9963922480760298,\n",
       "  0.9963835592690622,\n",
       "  0.9969252247456627,\n",
       "  0.9974198435957665,\n",
       "  0.996344153616917])"
      ]
     },
     "execution_count": 12,
     "metadata": {},
     "output_type": "execute_result"
    }
   ],
   "source": [
    "lr_test"
   ]
  },
  {
   "cell_type": "code",
   "execution_count": 13,
   "id": "2db60aee-c6c6-4fc1-9afd-9801394735b6",
   "metadata": {},
   "outputs": [
    {
     "data": {
      "text/plain": [
       "(99.7932116284823,\n",
       " 0.3160607582741692,\n",
       " [0.9893979224070658,\n",
       "  0.9951699744514452,\n",
       "  0.99786966567994,\n",
       "  0.9998214298396564,\n",
       "  0.9997491063029667,\n",
       "  0.9987291662840146,\n",
       "  0.9992972755018208,\n",
       "  0.999679017823844,\n",
       "  0.9997861747178183,\n",
       "  0.9998214298396564])"
      ]
     },
     "execution_count": 13,
     "metadata": {},
     "output_type": "execute_result"
    }
   ],
   "source": [
    "mlp_test"
   ]
  },
  {
   "cell_type": "code",
   "execution_count": 14,
   "id": "a55b9532-e1b0-4781-8acc-b732503e5290",
   "metadata": {},
   "outputs": [
    {
     "data": {
      "text/plain": [
       "(99.48520920890816,\n",
       " 0.07484053866941984,\n",
       " [0.9949214082601454,\n",
       "  0.9940977811320869,\n",
       "  0.995132776364976,\n",
       "  0.9945543109360311,\n",
       "  0.9946245797880886,\n",
       "  0.9960883692290879,\n",
       "  0.9959264910441642,\n",
       "  0.9949084565782158,\n",
       "  0.9948713080905447,\n",
       "  0.9933954394674749])"
      ]
     },
     "execution_count": 14,
     "metadata": {},
     "output_type": "execute_result"
    }
   ],
   "source": [
    "cnn_test"
   ]
  },
  {
   "cell_type": "code",
   "execution_count": 15,
   "id": "82065080-26c2-4bb2-a432-5f2b914e5474",
   "metadata": {},
   "outputs": [
    {
     "data": {
      "text/plain": [
       "(79.61596938174655,\n",
       " 0.49309212465328345,\n",
       " [0.7937978080859566,\n",
       "  0.794254118738723,\n",
       "  0.7986706696855724,\n",
       "  0.7989080096260676,\n",
       "  0.8020987133376998,\n",
       "  0.7982549928545433,\n",
       "  0.7975446173952946,\n",
       "  0.7993990236860739,\n",
       "  0.7832176454935815,\n",
       "  0.7954513392711429])"
      ]
     },
     "execution_count": 15,
     "metadata": {},
     "output_type": "execute_result"
    }
   ],
   "source": [
    "lr_env"
   ]
  },
  {
   "cell_type": "code",
   "execution_count": 16,
   "id": "ec22dcea-8bf9-48a9-b6ef-823a16e4cf72",
   "metadata": {},
   "outputs": [
    {
     "data": {
      "text/plain": [
       "(72.24770329350048,\n",
       " 11.489128864833773,\n",
       " [0.5119625377032132,\n",
       "  0.8390447897182393,\n",
       "  0.6129027612647318,\n",
       "  0.7713856881980936,\n",
       "  0.7207754244722735,\n",
       "  0.5493398922683471,\n",
       "  0.7648976726183944,\n",
       "  0.8355890963790086,\n",
       "  0.8092237702848674,\n",
       "  0.809648696442879])"
      ]
     },
     "execution_count": 16,
     "metadata": {},
     "output_type": "execute_result"
    }
   ],
   "source": [
    "mlp_env"
   ]
  },
  {
   "cell_type": "code",
   "execution_count": 17,
   "id": "c6442d68-b49b-4aa1-9980-fa9975ac4167",
   "metadata": {},
   "outputs": [
    {
     "data": {
      "text/plain": [
       "(81.43739832653904,\n",
       " 2.3965125456717464,\n",
       " [0.8209159236677798,\n",
       "  0.7625746097782835,\n",
       "  0.7898474530259875,\n",
       "  0.8362101613727897,\n",
       "  0.8201994513491638,\n",
       "  0.8277294060548548,\n",
       "  0.8114194196237295,\n",
       "  0.8374844885124119,\n",
       "  0.8426244841161656,\n",
       "  0.7947344351527386])"
      ]
     },
     "execution_count": 17,
     "metadata": {},
     "output_type": "execute_result"
    }
   ],
   "source": [
    "cnn_env"
   ]
  },
  {
   "cell_type": "code",
   "execution_count": 25,
   "id": "f1d7ba67-00bc-43bb-af9d-e975c0cd02cc",
   "metadata": {},
   "outputs": [
    {
     "data": {
      "text/plain": [
       "8"
      ]
     },
     "execution_count": 25,
     "metadata": {},
     "output_type": "execute_result"
    }
   ],
   "source": [
    "list(lr_cv[2]).index(max(list(lr_cv[2])))"
   ]
  },
  {
   "cell_type": "code",
   "execution_count": 47,
   "id": "9d862908-e37f-45d4-943c-13a95b038986",
   "metadata": {},
   "outputs": [],
   "source": [
    "def fetch_best_model_indexes(model, cv, test, env):\n",
    "    \n",
    "    cv = list(cv)\n",
    "\n",
    "    cv_best = cv.index(max(cv))\n",
    "    cv_worst = cv.index(min(cv))\n",
    "    # print(cv_best)\n",
    "    \n",
    "    test_best = test.index(max(test))\n",
    "    test_worst = test.index(min(test))\n",
    "    # print(test_best)\n",
    "    \n",
    "    env_best = env.index(max(env))\n",
    "    env_worst = env.index(min(env))\n",
    "    # print(env_best)\n",
    "    \n",
    "    print(f'Model: {model}\\nCV: Best {cv_best}, Worst {cv_worst}\\nTEST: Best {test_best}, Worst {test_worst}\\nENV: Best {env_best}, Worst {env_worst}')"
   ]
  },
  {
   "cell_type": "code",
   "execution_count": 49,
   "id": "5c0e9557-45ab-4fd6-a034-e031fd223834",
   "metadata": {},
   "outputs": [
    {
     "name": "stdout",
     "output_type": "stream",
     "text": [
      "Model: Logistic regression\n",
      "CV: Best 8, Worst 0\n",
      "TEST: Best 8, Worst 0\n",
      "ENV: Best 4, Worst 8\n"
     ]
    }
   ],
   "source": [
    "fetch_best_model_indexes('Logistic regression', lr_cv[2], lr_test[2], lr_env[2])"
   ]
  },
  {
   "cell_type": "code",
   "execution_count": 50,
   "id": "92e64680-ef5a-41e9-95f5-093c0df9db02",
   "metadata": {},
   "outputs": [
    {
     "name": "stdout",
     "output_type": "stream",
     "text": [
      "Model: MLP\n",
      "CV: Best 3, Worst 0\n",
      "TEST: Best 3, Worst 0\n",
      "ENV: Best 1, Worst 0\n"
     ]
    }
   ],
   "source": [
    "fetch_best_model_indexes('MLP', mlp_cv[2], mlp_test[2], mlp_env[2])"
   ]
  },
  {
   "cell_type": "code",
   "execution_count": 51,
   "id": "e167e2ec-7da7-4fd2-9ff1-61c1982c98dc",
   "metadata": {},
   "outputs": [
    {
     "name": "stdout",
     "output_type": "stream",
     "text": [
      "Model: CNN\n",
      "CV: Best 8, Worst 6\n",
      "TEST: Best 5, Worst 9\n",
      "ENV: Best 8, Worst 1\n"
     ]
    }
   ],
   "source": [
    "fetch_best_model_indexes('CNN', cnn_cv[2], cnn_test[2], cnn_env[2])"
   ]
  },
  {
   "cell_type": "code",
   "execution_count": null,
   "id": "6c303112-d8d4-465b-a034-1b6331e779b3",
   "metadata": {},
   "outputs": [],
   "source": []
  }
 ],
 "metadata": {
  "kernelspec": {
   "display_name": "Python 3 (ipykernel)",
   "language": "python",
   "name": "python3"
  },
  "language_info": {
   "codemirror_mode": {
    "name": "ipython",
    "version": 3
   },
   "file_extension": ".py",
   "mimetype": "text/x-python",
   "name": "python",
   "nbconvert_exporter": "python",
   "pygments_lexer": "ipython3",
   "version": "3.9.13"
  }
 },
 "nbformat": 4,
 "nbformat_minor": 5
}
