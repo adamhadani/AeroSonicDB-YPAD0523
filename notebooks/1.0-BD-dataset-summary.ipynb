{
 "cells": [
  {
   "cell_type": "markdown",
   "id": "71893f3f-98e8-4023-8786-d2fb420715b8",
   "metadata": {},
   "source": [
    "### AeroSonicDB (YPAD-0523): Dataset Summary"
   ]
  },
  {
   "cell_type": "code",
   "execution_count": 1,
   "id": "5a9ce371-b2ba-4b41-bace-82a41eb39d54",
   "metadata": {},
   "outputs": [],
   "source": [
    "import os\n",
    "import pandas as pd\n",
    "import numpy as np\n",
    "import matplotlib.pyplot as plt\n",
    "%matplotlib inline"
   ]
  },
  {
   "cell_type": "code",
   "execution_count": 2,
   "id": "6310df87-b0bd-44da-b843-5c699946156a",
   "metadata": {},
   "outputs": [],
   "source": [
    "dataset_path = '../data/raw'\n",
    "df = pd.read_csv(os.path.join(dataset_path, 'sample_meta.csv'))"
   ]
  },
  {
   "cell_type": "code",
   "execution_count": 3,
   "id": "5e5e735c-1821-40e2-b35e-4a322d0c1d23",
   "metadata": {},
   "outputs": [],
   "source": [
    "df['%dur'] = df['duration'] / df['duration'].sum()"
   ]
  },
  {
   "cell_type": "code",
   "execution_count": 4,
   "id": "1a82be02-3599-4426-8ed0-7f2f34d76865",
   "metadata": {},
   "outputs": [
    {
     "data": {
      "text/html": [
       "<div>\n",
       "<style scoped>\n",
       "    .dataframe tbody tr th:only-of-type {\n",
       "        vertical-align: middle;\n",
       "    }\n",
       "\n",
       "    .dataframe tbody tr th {\n",
       "        vertical-align: top;\n",
       "    }\n",
       "\n",
       "    .dataframe thead th {\n",
       "        text-align: right;\n",
       "    }\n",
       "</style>\n",
       "<table border=\"1\" class=\"dataframe\">\n",
       "  <thead>\n",
       "    <tr style=\"text-align: right;\">\n",
       "      <th>fold</th>\n",
       "      <th>1</th>\n",
       "      <th>2</th>\n",
       "      <th>3</th>\n",
       "      <th>4</th>\n",
       "      <th>5</th>\n",
       "      <th>test</th>\n",
       "      <th>TOTAL</th>\n",
       "    </tr>\n",
       "    <tr>\n",
       "      <th>class</th>\n",
       "      <th></th>\n",
       "      <th></th>\n",
       "      <th></th>\n",
       "      <th></th>\n",
       "      <th></th>\n",
       "      <th></th>\n",
       "      <th></th>\n",
       "    </tr>\n",
       "  </thead>\n",
       "  <tbody>\n",
       "    <tr>\n",
       "      <th>0</th>\n",
       "      <td>29.2</td>\n",
       "      <td>20.3</td>\n",
       "      <td>36.4</td>\n",
       "      <td>32.5</td>\n",
       "      <td>39.8</td>\n",
       "      <td>52.8</td>\n",
       "      <td>211.1</td>\n",
       "    </tr>\n",
       "    <tr>\n",
       "      <th>1</th>\n",
       "      <td>88.2</td>\n",
       "      <td>91.0</td>\n",
       "      <td>87.0</td>\n",
       "      <td>85.8</td>\n",
       "      <td>91.8</td>\n",
       "      <td>88.4</td>\n",
       "      <td>532.3</td>\n",
       "    </tr>\n",
       "    <tr>\n",
       "      <th>TOTAL</th>\n",
       "      <td>117.3</td>\n",
       "      <td>111.4</td>\n",
       "      <td>123.5</td>\n",
       "      <td>118.3</td>\n",
       "      <td>131.6</td>\n",
       "      <td>141.3</td>\n",
       "      <td>743.4</td>\n",
       "    </tr>\n",
       "  </tbody>\n",
       "</table>\n",
       "</div>"
      ],
      "text/plain": [
       "fold       1      2      3      4      5   test  TOTAL\n",
       "class                                                 \n",
       "0       29.2   20.3   36.4   32.5   39.8   52.8  211.1\n",
       "1       88.2   91.0   87.0   85.8   91.8   88.4  532.3\n",
       "TOTAL  117.3  111.4  123.5  118.3  131.6  141.3  743.4"
      ]
     },
     "execution_count": 4,
     "metadata": {},
     "output_type": "execute_result"
    }
   ],
   "source": [
    "table = pd.pivot_table(df, 'duration', index=['class'], columns='fold', aggfunc=np.sum, margins=True, margins_name='TOTAL')\n",
    "table = round(table / 60, 1)\n",
    "table"
   ]
  },
  {
   "cell_type": "code",
   "execution_count": 5,
   "id": "62a624c1-676b-4ffc-a233-c869e35591f6",
   "metadata": {},
   "outputs": [
    {
     "name": "stdout",
     "output_type": "stream",
     "text": [
      "\\begin{tabular}{lrrrrrrr}\n",
      "\\toprule\n",
      "\\textbf{fold} &      1 &      2 &      3 &      4 &      5 &   test &  TOTAL \\\\\n",
      "\\textbf{class} &        &        &        &        &        &        &        \\\\\n",
      "\\midrule\n",
      "\\textbf{0    } &   29.2 &   20.3 &   36.4 &   32.5 &   39.8 &   52.8 &  211.1 \\\\\n",
      "\\textbf{1    } &   88.2 &   91.0 &   87.0 &   85.8 &   91.8 &   88.4 &  532.3 \\\\\n",
      "\\textbf{TOTAL} &  117.3 &  111.4 &  123.5 &  118.3 &  131.6 &  141.3 &  743.4 \\\\\n",
      "\\bottomrule\n",
      "\\end{tabular}\n",
      "\n"
     ]
    },
    {
     "name": "stderr",
     "output_type": "stream",
     "text": [
      "C:\\Users\\Blake\\AppData\\Local\\Temp\\ipykernel_12716\\1539441251.py:1: FutureWarning: In future versions `DataFrame.to_latex` is expected to utilise the base implementation of `Styler.to_latex` for formatting and rendering. The arguments signature may therefore change. It is recommended instead to use `DataFrame.style.to_latex` which also contains additional functionality.\n",
      "  print(table.to_latex(bold_rows=True))\n"
     ]
    }
   ],
   "source": [
    "print(table.to_latex(bold_rows=True))"
   ]
  },
  {
   "cell_type": "code",
   "execution_count": 6,
   "id": "c85f3dcd-e1fb-42f8-988f-a391055f6f75",
   "metadata": {},
   "outputs": [],
   "source": [
    "loc_table = pd.crosstab(index=df['class'], columns=df['location'], values=df['duration'], aggfunc=np.sum, margins=True, margins_name='TOTAL', normalize=True)\n",
    "loc_table = round(loc_table*100, 1)"
   ]
  },
  {
   "cell_type": "code",
   "execution_count": 7,
   "id": "43dcca21-8aa9-4e5e-a111-84d1c49f8a51",
   "metadata": {},
   "outputs": [
    {
     "name": "stdout",
     "output_type": "stream",
     "text": [
      "\\begin{tabular}{lrrrr}\n",
      "\\toprule\n",
      "\\textbf{location} &     0 &    1 &    2 &  TOTAL \\\\\n",
      "\\textbf{class} &       &      &      &        \\\\\n",
      "\\midrule\n",
      "\\textbf{0    } &  27.1 &  0.3 &  1.0 &   28.4 \\\\\n",
      "\\textbf{1    } &  69.9 &  0.6 &  1.2 &   71.6 \\\\\n",
      "\\textbf{TOTAL} &  97.0 &  0.9 &  2.2 &  100.0 \\\\\n",
      "\\bottomrule\n",
      "\\end{tabular}\n",
      "\n"
     ]
    },
    {
     "name": "stderr",
     "output_type": "stream",
     "text": [
      "C:\\Users\\Blake\\AppData\\Local\\Temp\\ipykernel_12716\\2449559566.py:1: FutureWarning: In future versions `DataFrame.to_latex` is expected to utilise the base implementation of `Styler.to_latex` for formatting and rendering. The arguments signature may therefore change. It is recommended instead to use `DataFrame.style.to_latex` which also contains additional functionality.\n",
      "  print(loc_table.to_latex(bold_rows=True))\n"
     ]
    }
   ],
   "source": [
    "print(loc_table.to_latex(bold_rows=True))"
   ]
  },
  {
   "cell_type": "code",
   "execution_count": 8,
   "id": "95e1b7f1-f276-46e0-b381-516bd7623c44",
   "metadata": {},
   "outputs": [
    {
     "data": {
      "text/html": [
       "<div>\n",
       "<style scoped>\n",
       "    .dataframe tbody tr th:only-of-type {\n",
       "        vertical-align: middle;\n",
       "    }\n",
       "\n",
       "    .dataframe tbody tr th {\n",
       "        vertical-align: top;\n",
       "    }\n",
       "\n",
       "    .dataframe thead th {\n",
       "        text-align: right;\n",
       "    }\n",
       "</style>\n",
       "<table border=\"1\" class=\"dataframe\">\n",
       "  <thead>\n",
       "    <tr style=\"text-align: right;\">\n",
       "      <th>mic</th>\n",
       "      <th>0</th>\n",
       "      <th>1</th>\n",
       "      <th>TOTAL</th>\n",
       "    </tr>\n",
       "    <tr>\n",
       "      <th>class</th>\n",
       "      <th></th>\n",
       "      <th></th>\n",
       "      <th></th>\n",
       "    </tr>\n",
       "  </thead>\n",
       "  <tbody>\n",
       "    <tr>\n",
       "      <th>0</th>\n",
       "      <td>3.9</td>\n",
       "      <td>24.5</td>\n",
       "      <td>28.4</td>\n",
       "    </tr>\n",
       "    <tr>\n",
       "      <th>1</th>\n",
       "      <td>11.9</td>\n",
       "      <td>59.8</td>\n",
       "      <td>71.6</td>\n",
       "    </tr>\n",
       "    <tr>\n",
       "      <th>TOTAL</th>\n",
       "      <td>15.8</td>\n",
       "      <td>84.2</td>\n",
       "      <td>100.0</td>\n",
       "    </tr>\n",
       "  </tbody>\n",
       "</table>\n",
       "</div>"
      ],
      "text/plain": [
       "mic       0     1  TOTAL\n",
       "class                   \n",
       "0       3.9  24.5   28.4\n",
       "1      11.9  59.8   71.6\n",
       "TOTAL  15.8  84.2  100.0"
      ]
     },
     "execution_count": 8,
     "metadata": {},
     "output_type": "execute_result"
    }
   ],
   "source": [
    "mic_table = pd.crosstab(index=df['class'], columns=df['mic'], values=df['duration'], aggfunc=np.sum, margins=True, margins_name='TOTAL', normalize=True)\n",
    "mic_table = round(mic_table*100, 1)\n",
    "mic_table"
   ]
  },
  {
   "cell_type": "code",
   "execution_count": 9,
   "id": "96d324a1-2690-40bd-9fbb-e2ae4df5826e",
   "metadata": {},
   "outputs": [
    {
     "name": "stdout",
     "output_type": "stream",
     "text": [
      "\\begin{tabular}{lrrr}\n",
      "\\toprule\n",
      "\\textbf{mic} &     0 &     1 &  TOTAL \\\\\n",
      "\\textbf{class} &       &       &        \\\\\n",
      "\\midrule\n",
      "\\textbf{0    } &   3.9 &  24.5 &   28.4 \\\\\n",
      "\\textbf{1    } &  11.9 &  59.8 &   71.6 \\\\\n",
      "\\textbf{TOTAL} &  15.8 &  84.2 &  100.0 \\\\\n",
      "\\bottomrule\n",
      "\\end{tabular}\n",
      "\n"
     ]
    },
    {
     "name": "stderr",
     "output_type": "stream",
     "text": [
      "C:\\Users\\Blake\\AppData\\Local\\Temp\\ipykernel_12716\\1693236369.py:1: FutureWarning: In future versions `DataFrame.to_latex` is expected to utilise the base implementation of `Styler.to_latex` for formatting and rendering. The arguments signature may therefore change. It is recommended instead to use `DataFrame.style.to_latex` which also contains additional functionality.\n",
      "  print(mic_table.to_latex(bold_rows=True))\n"
     ]
    }
   ],
   "source": [
    "print(mic_table.to_latex(bold_rows=True))"
   ]
  },
  {
   "cell_type": "code",
   "execution_count": 10,
   "id": "91814286-54bc-485b-8466-ae59f4f07041",
   "metadata": {},
   "outputs": [],
   "source": [
    "df['date_time'] = df['date'] + ' ' + (df['time'].replace('-', ':', regex=True))\n",
    "df['date_time'] = pd.to_datetime(df['date_time'])\n",
    "df['day'] = df['date_time'].dt.day_name()\n",
    "df['hour'] = df['date_time'].dt.hour"
   ]
  },
  {
   "cell_type": "code",
   "execution_count": 11,
   "id": "00269c71-5450-47e9-bbde-c49e6cdaf6ad",
   "metadata": {},
   "outputs": [
    {
     "data": {
      "image/png": "[encoded data removed]",
      "text/plain": [
       "<Figure size 640x480 with 1 Axes>"
      ]
     },
     "metadata": {},
     "output_type": "display_data"
    }
   ],
   "source": [
    "days = ['Monday','Tuesday','Wednesday','Thursday','Friday','Saturday', 'Sunday']\n",
    "df.groupby('day')[['%dur']].sum().reindex(days).plot(kind='bar')\n",
    "plt.xticks(rotation=25)\n",
    "plt.xlabel('')\n",
    "plt.legend('', frameon=False)\n",
    "plt.title('Distribution of Samples by Day of Week')\n",
    "plt.show()"
   ]
  },
  {
   "cell_type": "code",
   "execution_count": 12,
   "id": "c1d654a8-5442-49c6-833b-185566ea14a9",
   "metadata": {},
   "outputs": [
    {
     "data": {
      "image/png": "[encoded data removed]",
      "text/plain": [
       "<Figure size 640x480 with 1 Axes>"
      ]
     },
     "metadata": {},
     "output_type": "display_data"
    }
   ],
   "source": [
    "hours = range(0,24)\n",
    "df.groupby('hour')[['%dur']].sum().reindex(hours).plot(kind='bar')\n",
    "plt.xlim(left=0, right=24)\n",
    "plt.xticks(rotation=45)\n",
    "plt.xlabel('')\n",
    "plt.legend('', frameon=False)\n",
    "plt.title('Distribution of Samples by Hour of Day')\n",
    "plt.show()"
   ]
  },
  {
   "cell_type": "markdown",
   "id": "a530a7f1-e60a-4617-8bc6-cb5a91a8d7ea",
   "metadata": {},
   "source": [
    "### Aircraft Features Summary"
   ]
  },
  {
   "cell_type": "code",
   "execution_count": 13,
   "id": "3a9ca440-4376-49e7-8bc1-8e740c87c0d5",
   "metadata": {},
   "outputs": [],
   "source": [
    "ac = df[df['class'] == 1]"
   ]
  },
  {
   "cell_type": "code",
   "execution_count": 14,
   "id": "dce1cc17-5272-4751-bb88-0bb1f72c5876",
   "metadata": {},
   "outputs": [
    {
     "data": {
      "text/plain": [
       "count    625.000000\n",
       "mean      51.104000\n",
       "std        9.428734\n",
       "min       18.000000\n",
       "25%       47.000000\n",
       "50%       53.000000\n",
       "75%       60.000000\n",
       "max       60.000000\n",
       "Name: duration, dtype: float64"
      ]
     },
     "execution_count": 14,
     "metadata": {},
     "output_type": "execute_result"
    }
   ],
   "source": [
    "ac.duration.describe()"
   ]
  },
  {
   "cell_type": "code",
   "execution_count": 15,
   "id": "8c509f6b-13b3-450a-b083-4d8b40819e39",
   "metadata": {},
   "outputs": [
    {
     "data": {
      "image/png": "[encoded data removed]",
      "text/plain": [
       "<Figure size 640x480 with 1 Axes>"
      ]
     },
     "metadata": {},
     "output_type": "display_data"
    }
   ],
   "source": [
    "ac.duration.plot(kind='hist')\n",
    "plt.title('Histogram of Aircraft Event Duration (seconds)')\n",
    "plt.show()"
   ]
  },
  {
   "cell_type": "code",
   "execution_count": 16,
   "id": "989f18ff-8b89-48dc-9ff7-75bbb79ab343",
   "metadata": {},
   "outputs": [
    {
     "data": {
      "text/plain": [
       "count     625.000000\n",
       "mean     3155.320000\n",
       "std       714.395742\n",
       "min      -225.000000\n",
       "25%      2975.000000\n",
       "50%      3250.000000\n",
       "75%      3425.000000\n",
       "max      5675.000000\n",
       "Name: altitude, dtype: float64"
      ]
     },
     "execution_count": 16,
     "metadata": {},
     "output_type": "execute_result"
    }
   ],
   "source": [
    "ac['altitude'].describe()"
   ]
  },
  {
   "cell_type": "code",
   "execution_count": 17,
   "id": "197bf6ef-37c7-4120-a0c3-b132e20bb95d",
   "metadata": {},
   "outputs": [
    {
     "data": {
      "image/png": "[encoded data removed]",
      "text/plain": [
       "<Figure size 640x480 with 1 Axes>"
      ]
     },
     "metadata": {},
     "output_type": "display_data"
    }
   ],
   "source": [
    "ac.pivot(columns='location').altitude.plot(kind = 'hist', stacked=True, bins=64)\n",
    "plt.title('Histogram of altitudes - all locations')\n",
    "plt.ylim(0,120)\n",
    "plt.show()"
   ]
  },
  {
   "cell_type": "code",
   "execution_count": 18,
   "id": "9c023ed9-aab7-462b-83d6-064645e48d42",
   "metadata": {},
   "outputs": [
    {
     "data": {
      "text/plain": [
       "count       625.000000\n",
       "mean      62044.881600\n",
       "std       56014.731948\n",
       "min        1134.000000\n",
       "25%       29574.000000\n",
       "50%       73500.000000\n",
       "75%       79015.000000\n",
       "max      351800.000000\n",
       "Name: mtow, dtype: float64"
      ]
     },
     "execution_count": 18,
     "metadata": {},
     "output_type": "execute_result"
    }
   ],
   "source": [
    "ac['mtow'].describe()"
   ]
  },
  {
   "cell_type": "code",
   "execution_count": 19,
   "id": "33f2f135-f14a-4244-919f-00d218aef9ef",
   "metadata": {},
   "outputs": [
    {
     "data": {
      "image/png": "[encoded data removed]",
      "text/plain": [
       "<Figure size 640x480 with 1 Axes>"
      ]
     },
     "metadata": {},
     "output_type": "display_data"
    }
   ],
   "source": [
    "# uac = ac.drop_duplicates('hex_id')\n",
    "ac.mtow.plot(kind = 'hist', stacked=True, bins=28)\n",
    "plt.title('Maximum Take-off Weight')\n",
    "#plt.ylim(0,120)\n",
    "plt.show()"
   ]
  },
  {
   "cell_type": "markdown",
   "id": "76d86eb8-5635-49ee-8bf7-6b6e928d5bcf",
   "metadata": {},
   "source": [
    "### n Most Frequent Values per Aircraft Feature"
   ]
  },
  {
   "cell_type": "code",
   "execution_count": 20,
   "id": "f11fbfbc-eda9-49d7-8578-7160e1541b27",
   "metadata": {
    "scrolled": true,
    "tags": []
   },
   "outputs": [
    {
     "name": "stdout",
     "output_type": "stream",
     "text": [
      "Column: altitude \n",
      "\n",
      "      altitude\n",
      "3275        43\n",
      "3250        32\n",
      "3300        32\n",
      "2875        22\n",
      "3100        21\n",
      "3375        20\n",
      "3350        19\n",
      "2850        19\n",
      "3075        18\n",
      "3225        17 \n",
      "\n",
      "N Unique values: 89\n",
      "\n",
      "\n",
      "Column: hex_id \n",
      "\n",
      "        hex_id\n",
      "7C7777      10\n",
      "7C68CE       9\n",
      "7C779A       8\n",
      "7C2BEE       8\n",
      "7C6C52       7\n",
      "7C68D4       6\n",
      "7C6D27       5\n",
      "7C80AD       5\n",
      "7C7526       5\n",
      "7C752F       5 \n",
      "\n",
      "N Unique values: 301\n",
      "\n",
      "\n",
      "Column: airframe \n",
      "\n",
      "                        airframe\n",
      "Power Driven Aeroplane       620\n",
      "Rotorcraft                     5 \n",
      "\n",
      "N Unique values: 2\n",
      "\n",
      "\n",
      "Column: engtype \n",
      "\n",
      "            engtype\n",
      "Turbofan        470\n",
      "Turboprop       114\n",
      "Piston           37\n",
      "Turboshaft        4 \n",
      "\n",
      "N Unique values: 4\n",
      "\n",
      "\n",
      "Column: engnum \n",
      "\n",
      "   engnum\n",
      "2     583\n",
      "1      39\n",
      "4       3 \n",
      "\n",
      "N Unique values: 3\n",
      "\n",
      "\n",
      "Column: shortdesc \n",
      "\n",
      "     shortdesc\n",
      "L2J        467\n",
      "L2T         86\n",
      "L1T         28\n",
      "L2P         26\n",
      "L1P         10\n",
      "H2T          4\n",
      "L4J          3\n",
      "H1P          1 \n",
      "\n",
      "N Unique values: 8\n",
      "\n",
      "\n",
      "Column: typedesig \n",
      "\n",
      "      typedesig\n",
      "B738        231\n",
      "E190         88\n",
      "A320         68\n",
      "PC12         27\n",
      "F100         26\n",
      "SF34         26\n",
      "DH8C         22\n",
      "DA42         20\n",
      "DH8D         13\n",
      "BE20         13 \n",
      "\n",
      "N Unique values: 41\n",
      "\n",
      "\n",
      "Column: manu \n",
      "\n",
      "                                                  manu\n",
      "THE BOEING COMPANY                                 256\n",
      "EMBRAER - EMPRESA BRASILEIRA DE AERONAUTICA S.A.    89\n",
      "AIRBUS INDUSTRIE                                    83\n",
      "BOMBARDIER INC                                      35\n",
      "PILATUS AIRCRAFT LTD                                33\n",
      "FOKKER AIRCRAFT B.V.                                27\n",
      "SAAB AIRCRAFT AB                                    25\n",
      "DIAMOND AIRCRAFT INDUSTRIES                         24\n",
      "HAWKER BEECHCRAFT CORPORATION                       17\n",
      "FAIRCHILD INDUSTRIES INC                             9 \n",
      "\n",
      "N Unique values: 22\n",
      "\n",
      "\n",
      "Column: model \n",
      "\n",
      "                 model\n",
      "737-838            104\n",
      "737-8FE             99\n",
      "ERJ 190-100 IGW     77\n",
      "A320-232            68\n",
      "PC-12/47E           27\n",
      "340B                22\n",
      "DHC-8-315           22\n",
      "DA 42               20\n",
      "F28 MK 0100         18\n",
      "DHC-8-402           13 \n",
      "\n",
      "N Unique values: 57\n",
      "\n",
      "\n",
      "Column: engmanu \n",
      "\n",
      "                              engmanu\n",
      "CFM INTERNATIONAL, S.A.           244\n",
      "GENERAL ELECTRIC COMPANY          128\n",
      "PRATT & WHITNEY CANADA             94\n",
      "INTERNATIONAL AERO ENGINES         68\n",
      "TEXTRON LYCOMING                   37\n",
      "ROLLS ROYCE LTD                    34\n",
      "GARRETT TURBINE ENGINE CO           9\n",
      "WILLIAMS INTERNATIONAL              7\n",
      "TELEDYNE-CONTINENTAL MOTORS         3\n",
      "HONEYWELL INTERNATIONAL INC.        1 \n",
      "\n",
      "N Unique values: 10\n",
      "\n",
      "\n",
      "Column: engmodel \n",
      "\n",
      "              engmodel\n",
      "V2527-A5            68\n",
      "CFM-56-7B24         59\n",
      "CFM56-7B26/3        47\n",
      "CF34-10E5           42\n",
      "CF34-10E6           41\n",
      "CFM56-7B24E         36\n",
      "TAY 650-15          26\n",
      "IO-360-M1A          24\n",
      "PT6A-67P            23\n",
      "PW123E              22 \n",
      "\n",
      "N Unique values: 61\n",
      "\n",
      "\n",
      "Column: engfamily \n",
      "\n",
      "        engfamily\n",
      "CFM56         242\n",
      "CF34           88\n",
      "V2500          68\n",
      "PT6            48\n",
      "PW100          35\n",
      "TAY            27\n",
      "IO-360         27\n",
      "CT7            26\n",
      "GE90           12\n",
      "TPE331          9 \n",
      "\n",
      "N Unique values: 27\n",
      "\n",
      "\n",
      "Column: fueltype \n",
      "\n",
      "          fueltype\n",
      "Kerosene       588\n",
      "Gasoline        37 \n",
      "\n",
      "N Unique values: 2\n",
      "\n",
      "\n",
      "Column: propmanu \n",
      "\n",
      "                                    propmanu\n",
      "AIRCRAFT NOT FITTED WITH PROPELLER       475\n",
      "HARTZELL PROPELLERS                       53\n",
      "DOWTY PROPELLERS                          32\n",
      "HAMILTON STANDARD                         29\n",
      "MT PROPELLERS                             21\n",
      "MCCAULEY PROPELLERS                       15 \n",
      "\n",
      "N Unique values: 6\n",
      "\n",
      "\n",
      "Column: propmodel \n",
      "\n",
      "                    propmodel\n",
      "NOT APPLICABLE            475\n",
      "14SF-15                    16\n",
      "R408/6-123-F/17            13\n",
      "HC-E5A-3A/NC10245B         11\n",
      "HC-D4N-3A                   9\n",
      "HC-E4A-3D/E10477SK          8\n",
      "R.389/4-123-F/26            8\n",
      "R390/4-123-F/27             8\n",
      "MTV-12-B-C-F                7\n",
      "14RF-19                     7 \n",
      "\n",
      "N Unique values: 35\n",
      "\n",
      "\n",
      "Column: mtow \n",
      "\n",
      "       mtow\n",
      "79015   157\n",
      "47790    77\n",
      "78390    55\n",
      "77000    42\n",
      "4740     26\n",
      "73500    26\n",
      "44450    25\n",
      "13155    22\n",
      "19500    22\n",
      "75069    13 \n",
      "\n",
      "N Unique values: 58\n",
      "\n",
      "\n"
     ]
    }
   ],
   "source": [
    "for col in ac.columns:\n",
    "    if col in ['train-test', 'fold', 'filename', 'date', 'time', 'location', \n",
    "               'mic', 'class', 'subclass', 'session', 'offset', 'duration', \n",
    "               '%dur', 'file_length', 'reg', 'date_time', 'day', 'hour']:\n",
    "        pass\n",
    "    else:\n",
    "        print(f'Column: {col}', '\\n')\n",
    "        print(pd.DataFrame(ac[col].value_counts()[:10]), '\\n')\n",
    "        print(f'N Unique values: {ac[col].nunique()}')\n",
    "        print('\\n')"
   ]
  },
  {
   "cell_type": "code",
   "execution_count": 21,
   "id": "07db6214-f1d6-46da-9ae8-40801599fd62",
   "metadata": {},
   "outputs": [],
   "source": [
    "sil = df[df['class'] == 0]"
   ]
  },
  {
   "cell_type": "code",
   "execution_count": 22,
   "id": "7daa9d20-6861-4891-920d-176c5ca13bbe",
   "metadata": {},
   "outputs": [
    {
     "data": {
      "text/plain": [
       "count    1270.000000\n",
       "mean        9.971654\n",
       "std         0.175262\n",
       "min         8.000000\n",
       "25%        10.000000\n",
       "50%        10.000000\n",
       "75%        10.000000\n",
       "max        10.000000\n",
       "Name: duration, dtype: float64"
      ]
     },
     "execution_count": 22,
     "metadata": {},
     "output_type": "execute_result"
    }
   ],
   "source": [
    "sil.duration.describe()"
   ]
  },
  {
   "cell_type": "code",
   "execution_count": null,
   "id": "3c8d01f4-9c7a-4f2a-81a5-9aa3777e3365",
   "metadata": {},
   "outputs": [],
   "source": []
  },
  {
   "cell_type": "code",
   "execution_count": 27,
   "id": "b714cdca-c9ed-40be-a174-0e425a99996b",
   "metadata": {},
   "outputs": [
    {
     "data": {
      "image/png": "[encoded data removed]",
      "text/plain": [
       "<Figure size 640x480 with 1 Axes>"
      ]
     },
     "metadata": {},
     "output_type": "display_data"
    }
   ],
   "source": [
    "sil.duration.plot(kind='hist')\n",
    "#plt.yscale('log')\n",
    "plt.title('Histogram of Silence Sample Duration (seconds)')\n",
    "plt.show()"
   ]
  }
 ],
 "metadata": {
  "kernelspec": {
   "display_name": "Python 3 (ipykernel)",
   "language": "python",
   "name": "python3"
  },
  "language_info": {
   "codemirror_mode": {
    "name": "ipython",
    "version": 3
   },
   "file_extension": ".py",
   "mimetype": "text/x-python",
   "name": "python",
   "nbconvert_exporter": "python",
   "pygments_lexer": "ipython3",
   "version": "3.9.13"
  }
 },
 "nbformat": 4,
 "nbformat_minor": 5
}
