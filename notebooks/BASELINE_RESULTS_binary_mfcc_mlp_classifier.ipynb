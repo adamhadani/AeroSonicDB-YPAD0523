{
 "cells": [
  {
   "cell_type": "code",
   "execution_count": 1,
   "id": "f1774b68",
   "metadata": {
    "ExecuteTime": {
     "end_time": "2023-06-28T07:15:11.782495Z",
     "start_time": "2023-06-28T07:15:02.494249Z"
    }
   },
   "outputs": [],
   "source": [
    "import os\n",
    "import json\n",
    "import numpy as np\n",
    "import tensorflow.keras as keras\n",
    "import tensorflow as tf\n",
    "from scikeras.wrappers import KerasClassifier\n",
    "from sklearn.model_selection import cross_validate\n",
    "from sklearn.model_selection import StratifiedGroupKFold\n",
    "import matplotlib.pyplot as plt\n",
    "%matplotlib inline\n",
    "import absl.logging\n",
    "absl.logging.set_verbosity(absl.logging.ERROR)\n",
    "tf.compat.v1.logging.set_verbosity(tf.compat.v1.logging.FATAL)"
   ]
  },
  {
   "cell_type": "code",
   "execution_count": 2,
   "id": "ca0086fd",
   "metadata": {
    "ExecuteTime": {
     "end_time": "2023-06-28T07:15:11.904839Z",
     "start_time": "2023-06-28T07:15:11.874406Z"
    }
   },
   "outputs": [],
   "source": [
    "# function to return the cv splits by index\n",
    "\n",
    "def fetch_cv_indicies(X, y, g):\n",
    "    sgkf = StratifiedGroupKFold(n_splits=10)\n",
    "    sgkf.get_n_splits(X, y)\n",
    "    cv_splits = sgkf.split(X, y, g)\n",
    "        \n",
    "    return cv_splits\n"
   ]
  },
  {
   "cell_type": "code",
   "execution_count": 3,
   "id": "471de4b4",
   "metadata": {
    "ExecuteTime": {
     "end_time": "2023-06-28T07:15:11.970712Z",
     "start_time": "2023-06-28T07:15:11.959716Z"
    }
   },
   "outputs": [],
   "source": [
    "def load_data(data_path, target_labels):\n",
    "    \n",
    "    with open(data_path, \"r\") as fp:\n",
    "        data = json.load(fp)\n",
    "        \n",
    "    # convert lists to numpy arrays\n",
    "    X = np.array(data[\"mfcc\"])\n",
    "    y = np.array(data[target_labels]).astype(int)\n",
    "    g = np.array(data['fold_label'])\n",
    "\n",
    "    print(\"Data successfully loaded!\")\n",
    "\n",
    "    return  X, y, g"
   ]
  },
  {
   "cell_type": "code",
   "execution_count": 4,
   "id": "010b027f",
   "metadata": {
    "ExecuteTime": {
     "end_time": "2023-06-28T07:15:11.954695Z",
     "start_time": "2023-06-28T07:15:11.939074Z"
    }
   },
   "outputs": [],
   "source": [
    "mfcc_path = '../data/processed/13_mfcc_5_train.json'"
   ]
  },
  {
   "cell_type": "code",
   "execution_count": 5,
   "id": "6a9ac954",
   "metadata": {
    "ExecuteTime": {
     "end_time": "2023-06-28T07:15:24.895192Z",
     "start_time": "2023-06-28T07:15:11.972459Z"
    }
   },
   "outputs": [
    {
     "name": "stdout",
     "output_type": "stream",
     "text": [
      "Data successfully loaded!\n"
     ]
    }
   ],
   "source": [
    "# load data\n",
    "X, y, g = load_data(data_path=mfcc_path, target_labels='class_label')"
   ]
  },
  {
   "cell_type": "code",
   "execution_count": 6,
   "id": "a919e716",
   "metadata": {
    "ExecuteTime": {
     "end_time": "2023-06-28T07:20:34.304339Z",
     "start_time": "2023-06-28T07:20:34.287341Z"
    }
   },
   "outputs": [],
   "source": [
    "def build_model():\n",
    "    model = keras.Sequential([\n",
    "\n",
    "        # input layer\n",
    "        keras.layers.Flatten(input_shape=(X.shape[1], X.shape[2])),\n",
    "        keras.layers.BatchNormalization(),\n",
    "\n",
    "        # 1st dense layer\n",
    "        keras.layers.Dense(128, activation='relu', kernel_regularizer=keras.regularizers.l2(0.001)),\n",
    "        keras.layers.Dropout(0.4),\n",
    "\n",
    "        # 2nd dense layer\n",
    "        keras.layers.Dense(64, activation='relu', kernel_regularizer=keras.regularizers.l2(0.001)),\n",
    "        keras.layers.Dropout(0.4),\n",
    "\n",
    "        # output layer\n",
    "        keras.layers.Dense(1, activation='sigmoid')\n",
    "    ])\n",
    "    \n",
    "    # compile model\n",
    "    optimiser = keras.optimizers.Adam(learning_rate=0.001)\n",
    "    model.compile(optimizer=optimiser,\n",
    "                  loss='BinaryCrossentropy',\n",
    "                  metrics=['binary_accuracy'])\n",
    "    \n",
    "    return model"
   ]
  },
  {
   "cell_type": "code",
   "execution_count": 7,
   "id": "913cae0f-f790-468c-bc0f-6db1aba2ea2a",
   "metadata": {
    "ExecuteTime": {
     "end_time": "2023-06-28T07:15:11.938178Z",
     "start_time": "2023-06-28T07:15:11.905759Z"
    }
   },
   "outputs": [
    {
     "name": "stdout",
     "output_type": "stream",
     "text": [
      "1) Acc: 96.69% (2.49%)\n",
      "2) Acc: 95.84% (4.23%)\n",
      "3) Acc: 96.02% (3.81%)\n",
      "4) Acc: 95.89% (5.00%)\n",
      "5) Acc: 96.05% (3.62%)\n",
      "6) Acc: 96.86% (1.83%)\n",
      "7) Acc: 96.75% (2.06%)\n",
      "8) Acc: 96.08% (4.48%)\n",
      "9) Acc: 96.81% (1.87%)\n",
      "10) Acc: 96.53% (3.26%)\n",
      "11) Acc: 95.98% (4.24%)\n",
      "12) Acc: 96.87% (2.01%)\n",
      "13) Acc: 97.07% (1.80%)\n",
      "14) Acc: 96.79% (3.12%)\n",
      "15) Acc: 96.16% (3.58%)\n",
      "16) Acc: 96.55% (2.43%)\n",
      "17) Acc: 96.60% (2.36%)\n",
      "18) Acc: 97.17% (1.46%)\n",
      "19) Acc: 96.84% (2.48%)\n",
      "20) Acc: 96.56% (2.99%)\n",
      "21) Acc: 96.75% (2.27%)\n",
      "22) Acc: 96.26% (3.26%)\n",
      "23) Acc: 96.81% (2.03%)\n",
      "24) Acc: 96.42% (3.73%)\n",
      "25) Acc: 96.92% (2.60%)\n",
      "26) Acc: 97.02% (2.09%)\n",
      "27) Acc: 96.57% (3.02%)\n",
      "28) Acc: 96.92% (1.93%)\n",
      "29) Acc: 97.25% (1.80%)\n",
      "30) Acc: 97.17% (1.97%)\n",
      "31) Acc: 95.78% (3.76%)\n",
      "32) Acc: 97.12% (2.24%)\n",
      "33) Acc: 96.75% (2.19%)\n",
      "34) Acc: 96.81% (2.39%)\n",
      "35) Acc: 97.05% (1.48%)\n",
      "36) Acc: 96.75% (2.41%)\n",
      "37) Acc: 97.11% (1.72%)\n",
      "38) Acc: 96.75% (2.08%)\n",
      "39) Acc: 96.67% (2.01%)\n",
      "40) Acc: 96.50% (4.30%)\n",
      "41) Acc: 96.44% (3.01%)\n",
      "42) Acc: 96.27% (3.48%)\n",
      "43) Acc: 97.10% (1.80%)\n",
      "44) Acc: 96.70% (3.38%)\n",
      "45) Acc: 96.92% (2.35%)\n",
      "46) Acc: 97.12% (1.50%)\n",
      "47) Acc: 96.40% (3.26%)\n",
      "48) Acc: 97.15% (1.79%)\n",
      "49) Acc: 95.90% (4.64%)\n",
      "50) Acc: 96.59% (2.61%)\n",
      "After 50 iterations) Baseline: 96.64% (2.72%)\n"
     ]
    }
   ],
   "source": [
    "iters = 0\n",
    "scores = []\n",
    "devs = []\n",
    "cum_ave = []\n",
    "\n",
    "while iters < 50:\n",
    "\n",
    "    # evaluate model with cv splits\n",
    "    build = build_model()\n",
    "    model = KerasClassifier(model=build, batch_size=260, epochs=100, random_state=0, verbose=0)\n",
    "\n",
    "    results = cross_validate(model, X, y, cv=fetch_cv_indicies(X, y, g), n_jobs=-1)\n",
    "    print(f\"{iters+1}) Acc: %.2f%% (%.2f%%)\" % (results['test_score'].mean()*100, results['test_score'].std()*100))\n",
    "\n",
    "    scores.append(results['test_score'].mean()*100)\n",
    "    devs.append(results['test_score'].std()*100)\n",
    "    cum_ave.append(np.array(scores).mean())\n",
    "    \n",
    "    iters += 1\n",
    "    \n",
    "print(f\"After {iters} iterations) Baseline: %.2f%% (%.2f%%)\" % (np.array(scores).mean(), np.array(devs).mean()))\n"
   ]
  },
  {
   "cell_type": "code",
   "execution_count": 8,
   "id": "4bbc049e-daee-4ff7-ac9f-3f56b3347db9",
   "metadata": {},
   "outputs": [
    {
     "data": {
      "image/png": "[encoded data removed]",
      "text/plain": [
       "<Figure size 640x480 with 1 Axes>"
      ]
     },
     "metadata": {},
     "output_type": "display_data"
    }
   ],
   "source": [
    "# plot the cumulative average of accuracy\n",
    "x = range(1, len(scores)+1, 1)\n",
    "y_cum = cum_ave\n",
    "plt.plot(x, y_cum)\n",
    "plt.plot(x, scores)\n",
    "plt.xticks(range(0, len(scores)+1, 5))\n",
    "plt.ylim(top=100)\n",
    "plt.show()"
   ]
  },
  {
   "cell_type": "code",
   "execution_count": 9,
   "id": "e9412822-7b90-4d7e-a526-710c7679adee",
   "metadata": {},
   "outputs": [
    {
     "name": "stdout",
     "output_type": "stream",
     "text": [
      "\n",
      "Baseline after 50 iterations of 10-fold cross-validation:\n",
      "\n",
      "Mean Accuracy: 96.64% (0.40%)\n",
      "Mean St Dev: (2.72%)\n"
     ]
    }
   ],
   "source": [
    "print(f\"\\nBaseline after {iters} iterations of 10-fold cross-validation:\\n\\nMean Accuracy: %.2f%% (%.2f%%)\\nMean St Dev: (%.2f%%)\" % (np.array(scores).mean(), np.array(scores).std(), np.array(devs).mean()))"
   ]
  }
 ],
 "metadata": {
  "hide_input": false,
  "kernelspec": {
   "display_name": "Python 3 (ipykernel)",
   "language": "python",
   "name": "python3"
  },
  "language_info": {
   "codemirror_mode": {
    "name": "ipython",
    "version": 3
   },
   "file_extension": ".py",
   "mimetype": "text/x-python",
   "name": "python",
   "nbconvert_exporter": "python",
   "pygments_lexer": "ipython3",
   "version": "3.9.13"
  },
  "varInspector": {
   "cols": {
    "lenName": 16,
    "lenType": 16,
    "lenVar": 40
   },
   "kernels_config": {
    "python": {
     "delete_cmd_postfix": "",
     "delete_cmd_prefix": "del ",
     "library": "var_list.py",
     "varRefreshCmd": "print(var_dic_list())"
    },
    "r": {
     "delete_cmd_postfix": ") ",
     "delete_cmd_prefix": "rm(",
     "library": "var_list.r",
     "varRefreshCmd": "cat(var_dic_list()) "
    }
   },
   "types_to_exclude": [
    "module",
    "function",
    "builtin_function_or_method",
    "instance",
    "_Feature"
   ],
   "window_display": false
  }
 },
 "nbformat": 4,
 "nbformat_minor": 5
}
